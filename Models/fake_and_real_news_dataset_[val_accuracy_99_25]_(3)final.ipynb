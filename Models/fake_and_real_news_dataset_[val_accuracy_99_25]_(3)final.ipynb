{
  "metadata": {
    "kernelspec": {
      "display_name": "Python 3",
      "name": "python3"
    },
    "language_info": {
      "name": "python",
      "version": "3.10.13",
      "mimetype": "text/x-python",
      "codemirror_mode": {
        "name": "ipython",
        "version": 3
      },
      "pygments_lexer": "ipython3",
      "nbconvert_exporter": "python",
      "file_extension": ".py"
    },
    "kaggle": {
      "accelerator": "none",
      "dataSources": [
        {
          "sourceId": 8165591,
          "sourceType": "datasetVersion",
          "datasetId": 4831777
        }
      ],
      "dockerImageVersionId": 30698,
      "isInternetEnabled": true,
      "language": "python",
      "sourceType": "notebook",
      "isGpuEnabled": false
    },
    "colab": {
      "provenance": [],
      "gpuType": "T4"
    },
    "accelerator": "GPU"
  },
  "nbformat_minor": 0,
  "nbformat": 4,
  "cells": [
    {
      "source": [
        "import kagglehub\n",
        "dataset_path = kagglehub.dataset_download('clmentbisaillon/fake-and-real-news-dataset')\n",
        "\n",
        "print('Data source import complete.')\n",
        "import shutil\n",
        "import os\n",
        "\n",
        "destination = \"news\"\n",
        "# Check if the destination folder already exists\n",
        "if not os.path.exists(os.path.join(destination, 'fake-and-real-news-dataset')):\n",
        "    shutil.move(dataset_path, destination)\n",
        "    print(f\"Dataset moved to {destination}\")\n",
        "else:\n",
        "    print(f\"Dataset already exists in {destination}\")\n",
        "print('Data source import complete.')\n",
        "import shutil\n",
        "import os\n",
        "\n",
        "destination = \"news\"\n",
        "# Check if the destination folder already exists\n",
        "if not os.path.exists(os.path.join(destination, 'fake-and-real-news-dataset')):\n",
        "    shutil.move(dataset_path, destination)\n",
        "    print(f\"Dataset moved to {destination}\")\n",
        "else:\n",
        "    print(f\"Dataset already exists in {destination}\")"
      ],
      "metadata": {
        "colab": {
          "base_uri": "https://localhost:8080/"
        },
        "id": "oal3uUb4YgpS",
        "outputId": "5c3c099e-56f1-4397-f719-5bb73ad2c455"
      },
      "cell_type": "code",
      "outputs": [
        {
          "output_type": "stream",
          "name": "stdout",
          "text": [
            "Data source import complete.\n",
            "Dataset already exists in news\n",
            "Data source import complete.\n",
            "Dataset already exists in news\n"
          ]
        }
      ],
      "execution_count": 55
    },
    {
      "cell_type": "code",
      "source": [
        "# This Python 3 environment comes with many helpful analytics libraries installed\n",
        "# It is defined by the kaggle/python Docker image: https://github.com/kaggle/docker-python\n",
        "# For example, here's several helpful packages to load\n",
        "\n",
        "import numpy as np # linear algebra\n",
        "import pandas as pd # data processing, CSV file I/O (e.g. pd.read_csv)\n",
        "\n",
        "# Input data files are available in the read-only \"../input/\" directory\n",
        "# For example, running this (by clicking run or pressing Shift+Enter) will list all files under the input directory\n",
        "\n",
        "import os\n",
        "for dirname, _, filenames in os.walk('/kaggle/input'):\n",
        "    for filename in filenames:\n",
        "        print(os.path.join(dirname, filename))\n",
        "\n",
        "# You can write up to 20GB to the current directory (/kaggle/working/) that gets preserved as output when you create a version using \"Save & Run All\"\n",
        "# You can also write temporary files to /kaggle/temp/, but they won't be saved outside of the current session"
      ],
      "metadata": {
        "_uuid": "8f2839f25d086af736a60e9eeb907d3b93b6e0e5",
        "_cell_guid": "b1076dfc-b9ad-4769-8c92-a6c4dae69d19",
        "execution": {
          "iopub.status.busy": "2024-05-05T13:14:10.587735Z",
          "iopub.execute_input": "2024-05-05T13:14:10.588094Z",
          "iopub.status.idle": "2024-05-05T13:14:11.068036Z",
          "shell.execute_reply.started": "2024-05-05T13:14:10.588063Z",
          "shell.execute_reply": "2024-05-05T13:14:11.066776Z"
        },
        "trusted": true,
        "id": "jngEMDpwYgpb",
        "colab": {
          "base_uri": "https://localhost:8080/"
        },
        "outputId": "8ad9911f-b22a-4677-bf9e-ce7574b9a0de"
      },
      "execution_count": 7,
      "outputs": [
        {
          "output_type": "stream",
          "name": "stdout",
          "text": [
            "/kaggle/input/fake-and-real-news-dataset/True.csv\n",
            "/kaggle/input/fake-and-real-news-dataset/Fake.csv\n"
          ]
        }
      ]
    },
    {
      "cell_type": "code",
      "source": [
        "path_fake_data = \"news/Fake.csv\"\n",
        "path_true_data = \"news/True.csv\""
      ],
      "metadata": {
        "execution": {
          "iopub.status.busy": "2024-05-05T13:14:11.071266Z",
          "iopub.execute_input": "2024-05-05T13:14:11.072206Z",
          "iopub.status.idle": "2024-05-05T13:14:11.077562Z",
          "shell.execute_reply.started": "2024-05-05T13:14:11.07216Z",
          "shell.execute_reply": "2024-05-05T13:14:11.076296Z"
        },
        "trusted": true,
        "id": "r1bvV1mBYgpc"
      },
      "execution_count": 10,
      "outputs": []
    },
    {
      "cell_type": "code",
      "source": [
        "fake_news = pd.read_csv(path_fake_data)\n",
        "true_news = pd.read_csv(path_true_data)"
      ],
      "metadata": {
        "execution": {
          "iopub.status.busy": "2024-05-05T13:14:11.078931Z",
          "iopub.execute_input": "2024-05-05T13:14:11.079231Z",
          "iopub.status.idle": "2024-05-05T13:14:12.712887Z",
          "shell.execute_reply.started": "2024-05-05T13:14:11.079204Z",
          "shell.execute_reply": "2024-05-05T13:14:12.711994Z"
        },
        "trusted": true,
        "id": "dicO9w6DYgpd"
      },
      "execution_count": 11,
      "outputs": []
    },
    {
      "cell_type": "code",
      "source": [
        "fake_news.head()"
      ],
      "metadata": {
        "execution": {
          "iopub.status.busy": "2024-05-05T13:14:12.713978Z",
          "iopub.execute_input": "2024-05-05T13:14:12.714842Z",
          "iopub.status.idle": "2024-05-05T13:14:12.73292Z",
          "shell.execute_reply.started": "2024-05-05T13:14:12.714793Z",
          "shell.execute_reply": "2024-05-05T13:14:12.731755Z"
        },
        "trusted": true,
        "colab": {
          "base_uri": "https://localhost:8080/",
          "height": 293
        },
        "id": "KZj0sFUQYgpg",
        "outputId": "52d38f7c-9cb2-41d1-ee73-94a716b17746"
      },
      "execution_count": 12,
      "outputs": [
        {
          "output_type": "execute_result",
          "data": {
            "text/plain": [
              "                                               title  \\\n",
              "0   Donald Trump Sends Out Embarrassing New Year’...   \n",
              "1   Drunk Bragging Trump Staffer Started Russian ...   \n",
              "2   Sheriff David Clarke Becomes An Internet Joke...   \n",
              "3   Trump Is So Obsessed He Even Has Obama’s Name...   \n",
              "4   Pope Francis Just Called Out Donald Trump Dur...   \n",
              "\n",
              "                                                text subject  \\\n",
              "0  Donald Trump just couldn t wish all Americans ...    News   \n",
              "1  House Intelligence Committee Chairman Devin Nu...    News   \n",
              "2  On Friday, it was revealed that former Milwauk...    News   \n",
              "3  On Christmas day, Donald Trump announced that ...    News   \n",
              "4  Pope Francis used his annual Christmas Day mes...    News   \n",
              "\n",
              "                date  \n",
              "0  December 31, 2017  \n",
              "1  December 31, 2017  \n",
              "2  December 30, 2017  \n",
              "3  December 29, 2017  \n",
              "4  December 25, 2017  "
            ],
            "text/html": [
              "\n",
              "  <div id=\"df-b71cd5ee-87ac-4369-b7fd-5c1f131d4313\" class=\"colab-df-container\">\n",
              "    <div>\n",
              "<style scoped>\n",
              "    .dataframe tbody tr th:only-of-type {\n",
              "        vertical-align: middle;\n",
              "    }\n",
              "\n",
              "    .dataframe tbody tr th {\n",
              "        vertical-align: top;\n",
              "    }\n",
              "\n",
              "    .dataframe thead th {\n",
              "        text-align: right;\n",
              "    }\n",
              "</style>\n",
              "<table border=\"1\" class=\"dataframe\">\n",
              "  <thead>\n",
              "    <tr style=\"text-align: right;\">\n",
              "      <th></th>\n",
              "      <th>title</th>\n",
              "      <th>text</th>\n",
              "      <th>subject</th>\n",
              "      <th>date</th>\n",
              "    </tr>\n",
              "  </thead>\n",
              "  <tbody>\n",
              "    <tr>\n",
              "      <th>0</th>\n",
              "      <td>Donald Trump Sends Out Embarrassing New Year’...</td>\n",
              "      <td>Donald Trump just couldn t wish all Americans ...</td>\n",
              "      <td>News</td>\n",
              "      <td>December 31, 2017</td>\n",
              "    </tr>\n",
              "    <tr>\n",
              "      <th>1</th>\n",
              "      <td>Drunk Bragging Trump Staffer Started Russian ...</td>\n",
              "      <td>House Intelligence Committee Chairman Devin Nu...</td>\n",
              "      <td>News</td>\n",
              "      <td>December 31, 2017</td>\n",
              "    </tr>\n",
              "    <tr>\n",
              "      <th>2</th>\n",
              "      <td>Sheriff David Clarke Becomes An Internet Joke...</td>\n",
              "      <td>On Friday, it was revealed that former Milwauk...</td>\n",
              "      <td>News</td>\n",
              "      <td>December 30, 2017</td>\n",
              "    </tr>\n",
              "    <tr>\n",
              "      <th>3</th>\n",
              "      <td>Trump Is So Obsessed He Even Has Obama’s Name...</td>\n",
              "      <td>On Christmas day, Donald Trump announced that ...</td>\n",
              "      <td>News</td>\n",
              "      <td>December 29, 2017</td>\n",
              "    </tr>\n",
              "    <tr>\n",
              "      <th>4</th>\n",
              "      <td>Pope Francis Just Called Out Donald Trump Dur...</td>\n",
              "      <td>Pope Francis used his annual Christmas Day mes...</td>\n",
              "      <td>News</td>\n",
              "      <td>December 25, 2017</td>\n",
              "    </tr>\n",
              "  </tbody>\n",
              "</table>\n",
              "</div>\n",
              "    <div class=\"colab-df-buttons\">\n",
              "\n",
              "  <div class=\"colab-df-container\">\n",
              "    <button class=\"colab-df-convert\" onclick=\"convertToInteractive('df-b71cd5ee-87ac-4369-b7fd-5c1f131d4313')\"\n",
              "            title=\"Convert this dataframe to an interactive table.\"\n",
              "            style=\"display:none;\">\n",
              "\n",
              "  <svg xmlns=\"http://www.w3.org/2000/svg\" height=\"24px\" viewBox=\"0 -960 960 960\">\n",
              "    <path d=\"M120-120v-720h720v720H120Zm60-500h600v-160H180v160Zm220 220h160v-160H400v160Zm0 220h160v-160H400v160ZM180-400h160v-160H180v160Zm440 0h160v-160H620v160ZM180-180h160v-160H180v160Zm440 0h160v-160H620v160Z\"/>\n",
              "  </svg>\n",
              "    </button>\n",
              "\n",
              "  <style>\n",
              "    .colab-df-container {\n",
              "      display:flex;\n",
              "      gap: 12px;\n",
              "    }\n",
              "\n",
              "    .colab-df-convert {\n",
              "      background-color: #E8F0FE;\n",
              "      border: none;\n",
              "      border-radius: 50%;\n",
              "      cursor: pointer;\n",
              "      display: none;\n",
              "      fill: #1967D2;\n",
              "      height: 32px;\n",
              "      padding: 0 0 0 0;\n",
              "      width: 32px;\n",
              "    }\n",
              "\n",
              "    .colab-df-convert:hover {\n",
              "      background-color: #E2EBFA;\n",
              "      box-shadow: 0px 1px 2px rgba(60, 64, 67, 0.3), 0px 1px 3px 1px rgba(60, 64, 67, 0.15);\n",
              "      fill: #174EA6;\n",
              "    }\n",
              "\n",
              "    .colab-df-buttons div {\n",
              "      margin-bottom: 4px;\n",
              "    }\n",
              "\n",
              "    [theme=dark] .colab-df-convert {\n",
              "      background-color: #3B4455;\n",
              "      fill: #D2E3FC;\n",
              "    }\n",
              "\n",
              "    [theme=dark] .colab-df-convert:hover {\n",
              "      background-color: #434B5C;\n",
              "      box-shadow: 0px 1px 3px 1px rgba(0, 0, 0, 0.15);\n",
              "      filter: drop-shadow(0px 1px 2px rgba(0, 0, 0, 0.3));\n",
              "      fill: #FFFFFF;\n",
              "    }\n",
              "  </style>\n",
              "\n",
              "    <script>\n",
              "      const buttonEl =\n",
              "        document.querySelector('#df-b71cd5ee-87ac-4369-b7fd-5c1f131d4313 button.colab-df-convert');\n",
              "      buttonEl.style.display =\n",
              "        google.colab.kernel.accessAllowed ? 'block' : 'none';\n",
              "\n",
              "      async function convertToInteractive(key) {\n",
              "        const element = document.querySelector('#df-b71cd5ee-87ac-4369-b7fd-5c1f131d4313');\n",
              "        const dataTable =\n",
              "          await google.colab.kernel.invokeFunction('convertToInteractive',\n",
              "                                                    [key], {});\n",
              "        if (!dataTable) return;\n",
              "\n",
              "        const docLinkHtml = 'Like what you see? Visit the ' +\n",
              "          '<a target=\"_blank\" href=https://colab.research.google.com/notebooks/data_table.ipynb>data table notebook</a>'\n",
              "          + ' to learn more about interactive tables.';\n",
              "        element.innerHTML = '';\n",
              "        dataTable['output_type'] = 'display_data';\n",
              "        await google.colab.output.renderOutput(dataTable, element);\n",
              "        const docLink = document.createElement('div');\n",
              "        docLink.innerHTML = docLinkHtml;\n",
              "        element.appendChild(docLink);\n",
              "      }\n",
              "    </script>\n",
              "  </div>\n",
              "\n",
              "\n",
              "<div id=\"df-41fe88c7-a425-4572-942b-dd4779bdc879\">\n",
              "  <button class=\"colab-df-quickchart\" onclick=\"quickchart('df-41fe88c7-a425-4572-942b-dd4779bdc879')\"\n",
              "            title=\"Suggest charts\"\n",
              "            style=\"display:none;\">\n",
              "\n",
              "<svg xmlns=\"http://www.w3.org/2000/svg\" height=\"24px\"viewBox=\"0 0 24 24\"\n",
              "     width=\"24px\">\n",
              "    <g>\n",
              "        <path d=\"M19 3H5c-1.1 0-2 .9-2 2v14c0 1.1.9 2 2 2h14c1.1 0 2-.9 2-2V5c0-1.1-.9-2-2-2zM9 17H7v-7h2v7zm4 0h-2V7h2v10zm4 0h-2v-4h2v4z\"/>\n",
              "    </g>\n",
              "</svg>\n",
              "  </button>\n",
              "\n",
              "<style>\n",
              "  .colab-df-quickchart {\n",
              "      --bg-color: #E8F0FE;\n",
              "      --fill-color: #1967D2;\n",
              "      --hover-bg-color: #E2EBFA;\n",
              "      --hover-fill-color: #174EA6;\n",
              "      --disabled-fill-color: #AAA;\n",
              "      --disabled-bg-color: #DDD;\n",
              "  }\n",
              "\n",
              "  [theme=dark] .colab-df-quickchart {\n",
              "      --bg-color: #3B4455;\n",
              "      --fill-color: #D2E3FC;\n",
              "      --hover-bg-color: #434B5C;\n",
              "      --hover-fill-color: #FFFFFF;\n",
              "      --disabled-bg-color: #3B4455;\n",
              "      --disabled-fill-color: #666;\n",
              "  }\n",
              "\n",
              "  .colab-df-quickchart {\n",
              "    background-color: var(--bg-color);\n",
              "    border: none;\n",
              "    border-radius: 50%;\n",
              "    cursor: pointer;\n",
              "    display: none;\n",
              "    fill: var(--fill-color);\n",
              "    height: 32px;\n",
              "    padding: 0;\n",
              "    width: 32px;\n",
              "  }\n",
              "\n",
              "  .colab-df-quickchart:hover {\n",
              "    background-color: var(--hover-bg-color);\n",
              "    box-shadow: 0 1px 2px rgba(60, 64, 67, 0.3), 0 1px 3px 1px rgba(60, 64, 67, 0.15);\n",
              "    fill: var(--button-hover-fill-color);\n",
              "  }\n",
              "\n",
              "  .colab-df-quickchart-complete:disabled,\n",
              "  .colab-df-quickchart-complete:disabled:hover {\n",
              "    background-color: var(--disabled-bg-color);\n",
              "    fill: var(--disabled-fill-color);\n",
              "    box-shadow: none;\n",
              "  }\n",
              "\n",
              "  .colab-df-spinner {\n",
              "    border: 2px solid var(--fill-color);\n",
              "    border-color: transparent;\n",
              "    border-bottom-color: var(--fill-color);\n",
              "    animation:\n",
              "      spin 1s steps(1) infinite;\n",
              "  }\n",
              "\n",
              "  @keyframes spin {\n",
              "    0% {\n",
              "      border-color: transparent;\n",
              "      border-bottom-color: var(--fill-color);\n",
              "      border-left-color: var(--fill-color);\n",
              "    }\n",
              "    20% {\n",
              "      border-color: transparent;\n",
              "      border-left-color: var(--fill-color);\n",
              "      border-top-color: var(--fill-color);\n",
              "    }\n",
              "    30% {\n",
              "      border-color: transparent;\n",
              "      border-left-color: var(--fill-color);\n",
              "      border-top-color: var(--fill-color);\n",
              "      border-right-color: var(--fill-color);\n",
              "    }\n",
              "    40% {\n",
              "      border-color: transparent;\n",
              "      border-right-color: var(--fill-color);\n",
              "      border-top-color: var(--fill-color);\n",
              "    }\n",
              "    60% {\n",
              "      border-color: transparent;\n",
              "      border-right-color: var(--fill-color);\n",
              "    }\n",
              "    80% {\n",
              "      border-color: transparent;\n",
              "      border-right-color: var(--fill-color);\n",
              "      border-bottom-color: var(--fill-color);\n",
              "    }\n",
              "    90% {\n",
              "      border-color: transparent;\n",
              "      border-bottom-color: var(--fill-color);\n",
              "    }\n",
              "  }\n",
              "</style>\n",
              "\n",
              "  <script>\n",
              "    async function quickchart(key) {\n",
              "      const quickchartButtonEl =\n",
              "        document.querySelector('#' + key + ' button');\n",
              "      quickchartButtonEl.disabled = true;  // To prevent multiple clicks.\n",
              "      quickchartButtonEl.classList.add('colab-df-spinner');\n",
              "      try {\n",
              "        const charts = await google.colab.kernel.invokeFunction(\n",
              "            'suggestCharts', [key], {});\n",
              "      } catch (error) {\n",
              "        console.error('Error during call to suggestCharts:', error);\n",
              "      }\n",
              "      quickchartButtonEl.classList.remove('colab-df-spinner');\n",
              "      quickchartButtonEl.classList.add('colab-df-quickchart-complete');\n",
              "    }\n",
              "    (() => {\n",
              "      let quickchartButtonEl =\n",
              "        document.querySelector('#df-41fe88c7-a425-4572-942b-dd4779bdc879 button');\n",
              "      quickchartButtonEl.style.display =\n",
              "        google.colab.kernel.accessAllowed ? 'block' : 'none';\n",
              "    })();\n",
              "  </script>\n",
              "</div>\n",
              "\n",
              "    </div>\n",
              "  </div>\n"
            ],
            "application/vnd.google.colaboratory.intrinsic+json": {
              "type": "dataframe",
              "variable_name": "fake_news",
              "summary": "{\n  \"name\": \"fake_news\",\n  \"rows\": 23481,\n  \"fields\": [\n    {\n      \"column\": \"title\",\n      \"properties\": {\n        \"dtype\": \"string\",\n        \"num_unique_values\": 17903,\n        \"samples\": [\n          \" Fox News Mocked Into Oblivion After This F*cking STUPID Attempt To Make Steve Bannon Look Sane (TWEETS)\",\n          \"BREAKING: FL GOV RICK SCOTT Calls for FBI Director to Resign\",\n          \" WATCH: Mike Pence\\u2019s Photo Op With Puerto Rico Survivors Just Went TERRIBLY Wrong (VIDEO)\"\n        ],\n        \"semantic_type\": \"\",\n        \"description\": \"\"\n      }\n    },\n    {\n      \"column\": \"text\",\n      \"properties\": {\n        \"dtype\": \"string\",\n        \"num_unique_values\": 17455,\n        \"samples\": [\n          \"The moral decay continues The Kapiolani Medical Center for Women and Children at the University of Hawaii is currently recruiting pregnant girls and women to participate in second-trimester abortions to measure their bleeding during the operation, with and without antihemorrhagic drugs. According to the Clinical Trials website, run by the National Institutes of Health, participants must be at least 14 years old and 18-24 weeks pregnant.The controversial study, led by Bliss Kaneshiro, MD and Kate Whitehouse, DO, will monitor bleeding during D&E abortions to determine the effects of the drug oxytocin, commonly used to minimize blood loss and decrease the risk of hemorrhage.The clinical trial, called  Effects of Oxytocin on Bleeding Outcomes during Dilation and Evacuation  began in October 2014 and is a collaboration between UH, Society of Family Planning and the University of Washington.The Society of Family Planning funds a number of similar research projects, such as experimenting with the dosage of Misoprostol, a uterine contracting agent, prior to surgical abortions at 13-18 weeks and exploring umbilical cord injections to produce fetal death prior to late-term abortions.In the UH study, researchers will carry out a  randomized, double-blinded, placebo-controlled trials,  to determine the effect of oxytocin s use on uterine bleeding, meaning that they will either provide or deny intravenous oxytocin to the women.Reports suggest that some doctors are concerned that withholding oxytocin during surgery may put patients, especially teen girls, at risk. This study is reminiscent of Nazi concentration camp experiments. I pity the poor women who are being treated like lab rats, especially those who are denied the drug to reduce hemorrhaging,  said Troy Newman, President of Operation Rescue.Dilation and evacuation abortions are surgical procedures that involve dismembering the pre-born baby with forceps, scraping the inside of the uterus with a curette to remove any residuals and finally suctioning out the womb to make sure the contents are completely removed.After the abortion, the corpse of the fetus is reassembled and examined to ensure everything was successfully removed and that the abortion was complete.The study is hoping to attract up to 166 test subjects and is expected to conclude in July 2015.Via: Breitbart News\",\n          \"CNN was quick to scoop up Corey Lewandowski after Donald Trump kicked him out of his role as campaign manager, but his first week on the job is going pretty much exactly how you would expect it to go   terribly.Not only has Lewandowski proven himself to be pretty much like a paid spokesman for Trump, but his defense of the disgraced GOP candidate isn t being received well. Earlier this week, Lewandowski revealed that he was under contract and couldn t criticize The Donald, even after being fired from the campaign. Today, Lewandowski got called out by Hillary Clinton surrogate Christine Quinn for hyping Trump up to be an expert on the Brexit decision   a suggestion that was clearly false.On Monday s edition of CNN s New Day, Lewandowski made another pathetic defense of Trump by trying to reframe the candidate s disgusting reaction to Brexit, where he mostly spoke about how much the decision would be good for his Scotland golf resort. Lewandowski s defense was: Obviously the U.S. dollar has become much stronger now against the British pound. If you re going to spend money in Europe, now would actually be a good time to go with the fall of the pound.What you have is a world view, so what you have is someone who is saying,  Let s look at this from the U.S. perspective. If you want to go and travel overseas   just from a monetary perspective   now is the right time to do that because what you re getting is more for your dollar. Quinn wasn t having it. She ripped into Lewandowski, firing back, Donald Trump is not running to be travel agent of the world, he s running to be president of the United States.  She continued: What he said wasn t a commentary on international markets, it was,  When the pound goes down, more people will come to my golf course. Donald Trump s main concern isn t the international markets, it isn t the impact that Brexit will have on hard working Americans  401Ks, it s himself. How can he make more money, how can he put more money in his bank account? Lewandowski compared the Brexit decision to Trump s rise in the GOP, and Quinn once again called him out and put him back in his place. She said: Trump touted that he saw this coming. That s ridiculous because when he was first asked about Brexit by the press, he didn t appear to know what it was. Lewandowski tried to counter by insisting that People are too smart, they are tired of being told what to do.  He then tried to commend Trump for being a selfish moron: You know what Donald Trump said about Brexit? What he said was, you don t have to listen to me because it s not my decision. He didn t weigh in like Hillary Clinton did, like Barack Obama did, saying that you can t do this. Quinn fought back, Because he didn t know what it was. Lewandowski was fighting a losing battle. Trump s reaction to Brexit was just as terrifying as it was humorous   it truly proved that Trump knows nothing about foreign affairs, and hasn t spent any time educating himself since the beginning of his presidential candidacy. If only some of the hours he spent getting into fights on Twitter were being used for learning about how the world works. But instead, he once again exposed himself as an unfit choice for President. And when people like Lewandowski try to make sense of his idiocy, they only make themselves look equally foolish.You can watch the embarrassing video below:Featured image via screen capture\",\n          \"A Michigan woman decided to defend against tyranny? when she and another shopper couldn t agree over who got to buy the last notebook on the shelf at the Novi Towne Center store.According to ABC 13, the brawl   yes, brawl    involved two Farmington Hills residents, ages 46 and 32, and a mother and daughter from South Lyon, ages 51 and 20. In other words, these were all grown adults who should have known better but hey   there was only one notebook on the shelf, and we ve all seen what happens in those post-apocalyptic movies when a store is down to the last gallon of milk, right?Two of the women, one of whom was the unnamed 20-year-old, reached for the notebook at the same time. The 46 and 32-year-olds apparently decided that she wasn t getting their goddamn notebook and began pulling her hair.Then, because this had almost hit peak  trailer park,  the 20-year-old s mother decided to go for bonus points by pulling out her gun. Fortunately, someone pushed her aside before she could do any harm.This is one of the NRA s  responsible gun owners  (conservatives can t dismiss this one, as it is confirmed that she is a concealed carry permit holder)   ready to leap into action at the most minor sign of danger and make things worse by turning the situation potentially deadly.Watch it happen below:Featured image via screengrab\"\n        ],\n        \"semantic_type\": \"\",\n        \"description\": \"\"\n      }\n    },\n    {\n      \"column\": \"subject\",\n      \"properties\": {\n        \"dtype\": \"category\",\n        \"num_unique_values\": 6,\n        \"samples\": [\n          \"News\",\n          \"politics\",\n          \"Middle-east\"\n        ],\n        \"semantic_type\": \"\",\n        \"description\": \"\"\n      }\n    },\n    {\n      \"column\": \"date\",\n      \"properties\": {\n        \"dtype\": \"category\",\n        \"num_unique_values\": 1681,\n        \"samples\": [\n          \"Jun 5, 2015\",\n          \"August 28, 2016\",\n          \"June 3, 2017\"\n        ],\n        \"semantic_type\": \"\",\n        \"description\": \"\"\n      }\n    }\n  ]\n}"
            }
          },
          "metadata": {},
          "execution_count": 12
        }
      ]
    },
    {
      "cell_type": "code",
      "source": [
        "true_news.head()"
      ],
      "metadata": {
        "execution": {
          "iopub.status.busy": "2024-05-05T13:14:12.736863Z",
          "iopub.execute_input": "2024-05-05T13:14:12.737336Z",
          "iopub.status.idle": "2024-05-05T13:14:12.750053Z",
          "shell.execute_reply.started": "2024-05-05T13:14:12.737266Z",
          "shell.execute_reply": "2024-05-05T13:14:12.749128Z"
        },
        "trusted": true,
        "colab": {
          "base_uri": "https://localhost:8080/",
          "height": 293
        },
        "id": "yJqMqZCpYgph",
        "outputId": "4799a984-bf39-49e6-971a-7826d7cf12e7"
      },
      "execution_count": 13,
      "outputs": [
        {
          "output_type": "execute_result",
          "data": {
            "text/plain": [
              "                                               title  \\\n",
              "0  As U.S. budget fight looms, Republicans flip t...   \n",
              "1  U.S. military to accept transgender recruits o...   \n",
              "2  Senior U.S. Republican senator: 'Let Mr. Muell...   \n",
              "3  FBI Russia probe helped by Australian diplomat...   \n",
              "4  Trump wants Postal Service to charge 'much mor...   \n",
              "\n",
              "                                                text       subject  \\\n",
              "0  WASHINGTON (Reuters) - The head of a conservat...  politicsNews   \n",
              "1  WASHINGTON (Reuters) - Transgender people will...  politicsNews   \n",
              "2  WASHINGTON (Reuters) - The special counsel inv...  politicsNews   \n",
              "3  WASHINGTON (Reuters) - Trump campaign adviser ...  politicsNews   \n",
              "4  SEATTLE/WASHINGTON (Reuters) - President Donal...  politicsNews   \n",
              "\n",
              "                 date  \n",
              "0  December 31, 2017   \n",
              "1  December 29, 2017   \n",
              "2  December 31, 2017   \n",
              "3  December 30, 2017   \n",
              "4  December 29, 2017   "
            ],
            "text/html": [
              "\n",
              "  <div id=\"df-d2183f75-a387-4263-97dc-31f1f2a627cd\" class=\"colab-df-container\">\n",
              "    <div>\n",
              "<style scoped>\n",
              "    .dataframe tbody tr th:only-of-type {\n",
              "        vertical-align: middle;\n",
              "    }\n",
              "\n",
              "    .dataframe tbody tr th {\n",
              "        vertical-align: top;\n",
              "    }\n",
              "\n",
              "    .dataframe thead th {\n",
              "        text-align: right;\n",
              "    }\n",
              "</style>\n",
              "<table border=\"1\" class=\"dataframe\">\n",
              "  <thead>\n",
              "    <tr style=\"text-align: right;\">\n",
              "      <th></th>\n",
              "      <th>title</th>\n",
              "      <th>text</th>\n",
              "      <th>subject</th>\n",
              "      <th>date</th>\n",
              "    </tr>\n",
              "  </thead>\n",
              "  <tbody>\n",
              "    <tr>\n",
              "      <th>0</th>\n",
              "      <td>As U.S. budget fight looms, Republicans flip t...</td>\n",
              "      <td>WASHINGTON (Reuters) - The head of a conservat...</td>\n",
              "      <td>politicsNews</td>\n",
              "      <td>December 31, 2017</td>\n",
              "    </tr>\n",
              "    <tr>\n",
              "      <th>1</th>\n",
              "      <td>U.S. military to accept transgender recruits o...</td>\n",
              "      <td>WASHINGTON (Reuters) - Transgender people will...</td>\n",
              "      <td>politicsNews</td>\n",
              "      <td>December 29, 2017</td>\n",
              "    </tr>\n",
              "    <tr>\n",
              "      <th>2</th>\n",
              "      <td>Senior U.S. Republican senator: 'Let Mr. Muell...</td>\n",
              "      <td>WASHINGTON (Reuters) - The special counsel inv...</td>\n",
              "      <td>politicsNews</td>\n",
              "      <td>December 31, 2017</td>\n",
              "    </tr>\n",
              "    <tr>\n",
              "      <th>3</th>\n",
              "      <td>FBI Russia probe helped by Australian diplomat...</td>\n",
              "      <td>WASHINGTON (Reuters) - Trump campaign adviser ...</td>\n",
              "      <td>politicsNews</td>\n",
              "      <td>December 30, 2017</td>\n",
              "    </tr>\n",
              "    <tr>\n",
              "      <th>4</th>\n",
              "      <td>Trump wants Postal Service to charge 'much mor...</td>\n",
              "      <td>SEATTLE/WASHINGTON (Reuters) - President Donal...</td>\n",
              "      <td>politicsNews</td>\n",
              "      <td>December 29, 2017</td>\n",
              "    </tr>\n",
              "  </tbody>\n",
              "</table>\n",
              "</div>\n",
              "    <div class=\"colab-df-buttons\">\n",
              "\n",
              "  <div class=\"colab-df-container\">\n",
              "    <button class=\"colab-df-convert\" onclick=\"convertToInteractive('df-d2183f75-a387-4263-97dc-31f1f2a627cd')\"\n",
              "            title=\"Convert this dataframe to an interactive table.\"\n",
              "            style=\"display:none;\">\n",
              "\n",
              "  <svg xmlns=\"http://www.w3.org/2000/svg\" height=\"24px\" viewBox=\"0 -960 960 960\">\n",
              "    <path d=\"M120-120v-720h720v720H120Zm60-500h600v-160H180v160Zm220 220h160v-160H400v160Zm0 220h160v-160H400v160ZM180-400h160v-160H180v160Zm440 0h160v-160H620v160ZM180-180h160v-160H180v160Zm440 0h160v-160H620v160Z\"/>\n",
              "  </svg>\n",
              "    </button>\n",
              "\n",
              "  <style>\n",
              "    .colab-df-container {\n",
              "      display:flex;\n",
              "      gap: 12px;\n",
              "    }\n",
              "\n",
              "    .colab-df-convert {\n",
              "      background-color: #E8F0FE;\n",
              "      border: none;\n",
              "      border-radius: 50%;\n",
              "      cursor: pointer;\n",
              "      display: none;\n",
              "      fill: #1967D2;\n",
              "      height: 32px;\n",
              "      padding: 0 0 0 0;\n",
              "      width: 32px;\n",
              "    }\n",
              "\n",
              "    .colab-df-convert:hover {\n",
              "      background-color: #E2EBFA;\n",
              "      box-shadow: 0px 1px 2px rgba(60, 64, 67, 0.3), 0px 1px 3px 1px rgba(60, 64, 67, 0.15);\n",
              "      fill: #174EA6;\n",
              "    }\n",
              "\n",
              "    .colab-df-buttons div {\n",
              "      margin-bottom: 4px;\n",
              "    }\n",
              "\n",
              "    [theme=dark] .colab-df-convert {\n",
              "      background-color: #3B4455;\n",
              "      fill: #D2E3FC;\n",
              "    }\n",
              "\n",
              "    [theme=dark] .colab-df-convert:hover {\n",
              "      background-color: #434B5C;\n",
              "      box-shadow: 0px 1px 3px 1px rgba(0, 0, 0, 0.15);\n",
              "      filter: drop-shadow(0px 1px 2px rgba(0, 0, 0, 0.3));\n",
              "      fill: #FFFFFF;\n",
              "    }\n",
              "  </style>\n",
              "\n",
              "    <script>\n",
              "      const buttonEl =\n",
              "        document.querySelector('#df-d2183f75-a387-4263-97dc-31f1f2a627cd button.colab-df-convert');\n",
              "      buttonEl.style.display =\n",
              "        google.colab.kernel.accessAllowed ? 'block' : 'none';\n",
              "\n",
              "      async function convertToInteractive(key) {\n",
              "        const element = document.querySelector('#df-d2183f75-a387-4263-97dc-31f1f2a627cd');\n",
              "        const dataTable =\n",
              "          await google.colab.kernel.invokeFunction('convertToInteractive',\n",
              "                                                    [key], {});\n",
              "        if (!dataTable) return;\n",
              "\n",
              "        const docLinkHtml = 'Like what you see? Visit the ' +\n",
              "          '<a target=\"_blank\" href=https://colab.research.google.com/notebooks/data_table.ipynb>data table notebook</a>'\n",
              "          + ' to learn more about interactive tables.';\n",
              "        element.innerHTML = '';\n",
              "        dataTable['output_type'] = 'display_data';\n",
              "        await google.colab.output.renderOutput(dataTable, element);\n",
              "        const docLink = document.createElement('div');\n",
              "        docLink.innerHTML = docLinkHtml;\n",
              "        element.appendChild(docLink);\n",
              "      }\n",
              "    </script>\n",
              "  </div>\n",
              "\n",
              "\n",
              "<div id=\"df-8b2a0cb6-8ea3-459c-a429-a83934f300db\">\n",
              "  <button class=\"colab-df-quickchart\" onclick=\"quickchart('df-8b2a0cb6-8ea3-459c-a429-a83934f300db')\"\n",
              "            title=\"Suggest charts\"\n",
              "            style=\"display:none;\">\n",
              "\n",
              "<svg xmlns=\"http://www.w3.org/2000/svg\" height=\"24px\"viewBox=\"0 0 24 24\"\n",
              "     width=\"24px\">\n",
              "    <g>\n",
              "        <path d=\"M19 3H5c-1.1 0-2 .9-2 2v14c0 1.1.9 2 2 2h14c1.1 0 2-.9 2-2V5c0-1.1-.9-2-2-2zM9 17H7v-7h2v7zm4 0h-2V7h2v10zm4 0h-2v-4h2v4z\"/>\n",
              "    </g>\n",
              "</svg>\n",
              "  </button>\n",
              "\n",
              "<style>\n",
              "  .colab-df-quickchart {\n",
              "      --bg-color: #E8F0FE;\n",
              "      --fill-color: #1967D2;\n",
              "      --hover-bg-color: #E2EBFA;\n",
              "      --hover-fill-color: #174EA6;\n",
              "      --disabled-fill-color: #AAA;\n",
              "      --disabled-bg-color: #DDD;\n",
              "  }\n",
              "\n",
              "  [theme=dark] .colab-df-quickchart {\n",
              "      --bg-color: #3B4455;\n",
              "      --fill-color: #D2E3FC;\n",
              "      --hover-bg-color: #434B5C;\n",
              "      --hover-fill-color: #FFFFFF;\n",
              "      --disabled-bg-color: #3B4455;\n",
              "      --disabled-fill-color: #666;\n",
              "  }\n",
              "\n",
              "  .colab-df-quickchart {\n",
              "    background-color: var(--bg-color);\n",
              "    border: none;\n",
              "    border-radius: 50%;\n",
              "    cursor: pointer;\n",
              "    display: none;\n",
              "    fill: var(--fill-color);\n",
              "    height: 32px;\n",
              "    padding: 0;\n",
              "    width: 32px;\n",
              "  }\n",
              "\n",
              "  .colab-df-quickchart:hover {\n",
              "    background-color: var(--hover-bg-color);\n",
              "    box-shadow: 0 1px 2px rgba(60, 64, 67, 0.3), 0 1px 3px 1px rgba(60, 64, 67, 0.15);\n",
              "    fill: var(--button-hover-fill-color);\n",
              "  }\n",
              "\n",
              "  .colab-df-quickchart-complete:disabled,\n",
              "  .colab-df-quickchart-complete:disabled:hover {\n",
              "    background-color: var(--disabled-bg-color);\n",
              "    fill: var(--disabled-fill-color);\n",
              "    box-shadow: none;\n",
              "  }\n",
              "\n",
              "  .colab-df-spinner {\n",
              "    border: 2px solid var(--fill-color);\n",
              "    border-color: transparent;\n",
              "    border-bottom-color: var(--fill-color);\n",
              "    animation:\n",
              "      spin 1s steps(1) infinite;\n",
              "  }\n",
              "\n",
              "  @keyframes spin {\n",
              "    0% {\n",
              "      border-color: transparent;\n",
              "      border-bottom-color: var(--fill-color);\n",
              "      border-left-color: var(--fill-color);\n",
              "    }\n",
              "    20% {\n",
              "      border-color: transparent;\n",
              "      border-left-color: var(--fill-color);\n",
              "      border-top-color: var(--fill-color);\n",
              "    }\n",
              "    30% {\n",
              "      border-color: transparent;\n",
              "      border-left-color: var(--fill-color);\n",
              "      border-top-color: var(--fill-color);\n",
              "      border-right-color: var(--fill-color);\n",
              "    }\n",
              "    40% {\n",
              "      border-color: transparent;\n",
              "      border-right-color: var(--fill-color);\n",
              "      border-top-color: var(--fill-color);\n",
              "    }\n",
              "    60% {\n",
              "      border-color: transparent;\n",
              "      border-right-color: var(--fill-color);\n",
              "    }\n",
              "    80% {\n",
              "      border-color: transparent;\n",
              "      border-right-color: var(--fill-color);\n",
              "      border-bottom-color: var(--fill-color);\n",
              "    }\n",
              "    90% {\n",
              "      border-color: transparent;\n",
              "      border-bottom-color: var(--fill-color);\n",
              "    }\n",
              "  }\n",
              "</style>\n",
              "\n",
              "  <script>\n",
              "    async function quickchart(key) {\n",
              "      const quickchartButtonEl =\n",
              "        document.querySelector('#' + key + ' button');\n",
              "      quickchartButtonEl.disabled = true;  // To prevent multiple clicks.\n",
              "      quickchartButtonEl.classList.add('colab-df-spinner');\n",
              "      try {\n",
              "        const charts = await google.colab.kernel.invokeFunction(\n",
              "            'suggestCharts', [key], {});\n",
              "      } catch (error) {\n",
              "        console.error('Error during call to suggestCharts:', error);\n",
              "      }\n",
              "      quickchartButtonEl.classList.remove('colab-df-spinner');\n",
              "      quickchartButtonEl.classList.add('colab-df-quickchart-complete');\n",
              "    }\n",
              "    (() => {\n",
              "      let quickchartButtonEl =\n",
              "        document.querySelector('#df-8b2a0cb6-8ea3-459c-a429-a83934f300db button');\n",
              "      quickchartButtonEl.style.display =\n",
              "        google.colab.kernel.accessAllowed ? 'block' : 'none';\n",
              "    })();\n",
              "  </script>\n",
              "</div>\n",
              "\n",
              "    </div>\n",
              "  </div>\n"
            ],
            "application/vnd.google.colaboratory.intrinsic+json": {
              "type": "dataframe",
              "variable_name": "true_news",
              "summary": "{\n  \"name\": \"true_news\",\n  \"rows\": 21417,\n  \"fields\": [\n    {\n      \"column\": \"title\",\n      \"properties\": {\n        \"dtype\": \"string\",\n        \"num_unique_values\": 20826,\n        \"samples\": [\n          \"German, Turkish foreign ministers meet after detainee released\",\n          \"Kremlin calls North Korea's latest missile launch another 'provocation'\",\n          \"Transgender soldiers, veterans shaken by Trump's ban on their service\"\n        ],\n        \"semantic_type\": \"\",\n        \"description\": \"\"\n      }\n    },\n    {\n      \"column\": \"text\",\n      \"properties\": {\n        \"dtype\": \"string\",\n        \"num_unique_values\": 21192,\n        \"samples\": [\n          \"WASHINGTON (Reuters) - A majority of the U.S. Senate on Tuesday backed a new round of disaster aid to help Puerto Rico and several states recover from damage from hurricanes and wildfires. The legislation would provide $36.5 billion in emergency relief as Puerto Rico in particular struggles to regain electricity and other basic services following destructive hurricanes. The House of Representatives approved the bill earlier this month. The Trump administration already has indicated it will seek another round of emergency relief from Congress. \",\n          \"BUDAPEST (Reuters) - About a thousand Hungarians protested on Friday against a crackdown on the main opposition party Jobbik which has been  threatened by a record political campaign fine that the party leader describes as a  death sentence  for democracy. Despite the gloomy rhetoric and Jobbik saying it was fighting for survival, support for the demonstration was well down on other similar rallies over the past year. Hungarians will vote for a new parliament in April and Prime Minister Viktor Orban s conservative, anti-migrant Fidesz party is far ahead in the polls, with Jobbik its nearest rival. Jobbik, once on the far right, has turned toward the center in a bid to attract more support and is now campaigning nationwide against Orban, depicting him as the leader of a criminal gang. Orban, rejecting the charges, says his financial standing is  an open book . Last week the state audit office (ASZ) ruled Jobbik had bought political posters far below market prices, breaching rules on political funding, then it slapped a 663 million forint ($2.5 million) penalty on the party. The protesters, waving Jobbik flags and posters deriding the ruling elite, gathered outside the headquarters of Orban s Fidesz party.  What we see unfolding is not an audit office investigation. It is not an official penalty. This is a death sentence with Jobbik s name on it. But in reality, it is a death sentence for Hungarian democracy,  Jobbiik leader Gabor Vona told the crowd. A government spokesman could not comment immediately on his remarks. ASZ chairman Laszlo Domokos is a former Fidesz lawmaker, whom Jobbik and other critics accuse of making decisions in favor of Orban. The audit office denies that. On Friday, ASZ again called on Jobbik to submit information that would challenge its findings, saying it acted fully within its rights throughout the probe. The ruling Fidesz party and the government have denied any involvement in the ASZ probe.  This case has nothing to do with the election campaign,  Orban aide Janos Lazar said on Thursday. For over a year Fidesz has targeted Jobbik, whose move to the center could upend the longstanding status quo of a dominant Fidesz with weaker opponents to its left and its right, said analyst Zoltan Novak at the Centre for Fair Political Analysis. Gyorgy Illes, a 67-year-old pensioner attending the rally, said he used to be a Socialist supporter but got disillusioned as the party struggled to overcome its internal divisions.  This ASZ probe is a clear sign that Orban is way past any remedy. It is a ruthless attack on everything we hold dear. Democracy, the rule of law, equality, you name it,  he said. \",\n          \"BEIJING/TAIPEI (Reuters) - China accused the United States on Thursday of interfering in its internal affairs and said it had lodged a complaint after U.S. President Donald Trump signed into law an act laying the groundwork for possible U.S. navy visits to self-ruled Taiwan. Tensions have risen in recent days after a senior Chinese diplomat threatened China would invade Taiwan if any U.S. warships made port visits to the island which China claims as its own territory. On Monday, Chinese jets carried out  island encirclement patrols  around Taiwan, with state media showing pictures of bombers with cruise missiles slung under their wings as they carried out the exercise. On Tuesday, Trump signed into law the National Defense Authorization Act for the 2018 fiscal year, which authorizes the possibility of mutual visits by navy vessels between Taiwan and the United States. Such visits would be the first since the United States ended formal diplomatic relations with Taiwan in 1979 and established ties with Beijing. Chinese Foreign Ministry spokesman Lu Kang said while the Taiwan sections of the law were not legally binding, they seriously violate the  One China  policy and  constitute an interference in China s internal affairs .   China is resolutely opposed to this, and we have already lodged stern representations with the U.S. government,  Lu told a daily news briefing. China is firmly opposed to any official exchanges, military contact, or arms sales between Taiwan and the United States, he added.  Proudly democratic Taiwan has become increasingly concerned with the ramped up Chinese military presence, that has included several rounds of Chinese air force drills around the island in recent months.  Taiwan is confident of its defenses and responded quickly to the Chinese air force drills this week, its government said, denouncing the rise in China s military deployments as irresponsible. Taiwan presidential spokesman Alex Huang, speaking to Taiwan media in comments reported late on Wednesday, said the defense ministry had kept a close watch on the patrols and responded immediately and properly. Taiwan  can ensure there are no concerns at all about national security, and people can rest assured , Huang said. Both sides of the narrow Taiwan Strait, which separates Taiwan from its giant neighbor, have a responsibility to protect peace and stability, he added.  Such a raised military posture that may impact upon and harm regional peace and stability and cross-strait ties does not give a feeling of responsibility, and the international community does not look favorably upon this,  Huang was quoted as saying. Relations have soured considerably since Tsai Ing-wen, who leads Taiwan s independence-leaning Democratic Progressive Party, won presidential elections last year. China suspects Tsai wants to declare the island s formal independence, a red line for Beijing. Tsai says she wants to maintain peace with China but will defend Taiwan s security. Taiwan is well equipped with mostly U.S. weapons but has been pressing for more advanced equipment to deal with what it sees as a rising threat from China. The United States is bound by law to provide the island with the means to defend itself. China has never renounced the use of force to bring Taiwan under its control. \"\n        ],\n        \"semantic_type\": \"\",\n        \"description\": \"\"\n      }\n    },\n    {\n      \"column\": \"subject\",\n      \"properties\": {\n        \"dtype\": \"category\",\n        \"num_unique_values\": 2,\n        \"samples\": [\n          \"worldnews\",\n          \"politicsNews\"\n        ],\n        \"semantic_type\": \"\",\n        \"description\": \"\"\n      }\n    },\n    {\n      \"column\": \"date\",\n      \"properties\": {\n        \"dtype\": \"object\",\n        \"num_unique_values\": 716,\n        \"samples\": [\n          \"September 2, 2017 \",\n          \"February 2, 2017 \"\n        ],\n        \"semantic_type\": \"\",\n        \"description\": \"\"\n      }\n    }\n  ]\n}"
            }
          },
          "metadata": {},
          "execution_count": 13
        }
      ]
    },
    {
      "cell_type": "code",
      "source": [
        "fake_news.info()"
      ],
      "metadata": {
        "execution": {
          "iopub.status.busy": "2024-05-05T13:14:12.751302Z",
          "iopub.execute_input": "2024-05-05T13:14:12.751685Z",
          "iopub.status.idle": "2024-05-05T13:14:12.779594Z",
          "shell.execute_reply.started": "2024-05-05T13:14:12.751655Z",
          "shell.execute_reply": "2024-05-05T13:14:12.778414Z"
        },
        "trusted": true,
        "colab": {
          "base_uri": "https://localhost:8080/"
        },
        "id": "0Pi25cxAYgph",
        "outputId": "5d4a5779-99ad-45ff-c5a2-71bfb11bbd95"
      },
      "execution_count": 14,
      "outputs": [
        {
          "output_type": "stream",
          "name": "stdout",
          "text": [
            "<class 'pandas.core.frame.DataFrame'>\n",
            "RangeIndex: 23481 entries, 0 to 23480\n",
            "Data columns (total 4 columns):\n",
            " #   Column   Non-Null Count  Dtype \n",
            "---  ------   --------------  ----- \n",
            " 0   title    23481 non-null  object\n",
            " 1   text     23481 non-null  object\n",
            " 2   subject  23481 non-null  object\n",
            " 3   date     23481 non-null  object\n",
            "dtypes: object(4)\n",
            "memory usage: 733.9+ KB\n"
          ]
        }
      ]
    },
    {
      "cell_type": "code",
      "source": [
        "true_news.info()"
      ],
      "metadata": {
        "execution": {
          "iopub.status.busy": "2024-05-05T13:14:12.781134Z",
          "iopub.execute_input": "2024-05-05T13:14:12.782137Z",
          "iopub.status.idle": "2024-05-05T13:14:12.813853Z",
          "shell.execute_reply.started": "2024-05-05T13:14:12.782101Z",
          "shell.execute_reply": "2024-05-05T13:14:12.81269Z"
        },
        "trusted": true,
        "colab": {
          "base_uri": "https://localhost:8080/"
        },
        "id": "V_pmFsnLYgpi",
        "outputId": "ed39b150-ce1b-4a9f-f3ab-92ebbb78ab40"
      },
      "execution_count": 15,
      "outputs": [
        {
          "output_type": "stream",
          "name": "stdout",
          "text": [
            "<class 'pandas.core.frame.DataFrame'>\n",
            "RangeIndex: 21417 entries, 0 to 21416\n",
            "Data columns (total 4 columns):\n",
            " #   Column   Non-Null Count  Dtype \n",
            "---  ------   --------------  ----- \n",
            " 0   title    21417 non-null  object\n",
            " 1   text     21417 non-null  object\n",
            " 2   subject  21417 non-null  object\n",
            " 3   date     21417 non-null  object\n",
            "dtypes: object(4)\n",
            "memory usage: 669.4+ KB\n"
          ]
        }
      ]
    },
    {
      "cell_type": "code",
      "source": [
        "fake_news.duplicated().sum(), true_news.duplicated().sum()"
      ],
      "metadata": {
        "execution": {
          "iopub.status.busy": "2024-05-05T13:14:12.815482Z",
          "iopub.execute_input": "2024-05-05T13:14:12.815835Z",
          "iopub.status.idle": "2024-05-05T13:14:13.172266Z",
          "shell.execute_reply.started": "2024-05-05T13:14:12.815804Z",
          "shell.execute_reply": "2024-05-05T13:14:13.17064Z"
        },
        "trusted": true,
        "colab": {
          "base_uri": "https://localhost:8080/"
        },
        "id": "COcsWrOvYgpj",
        "outputId": "d207264c-18ac-4235-9474-841da882ec09"
      },
      "execution_count": 16,
      "outputs": [
        {
          "output_type": "execute_result",
          "data": {
            "text/plain": [
              "(np.int64(3), np.int64(206))"
            ]
          },
          "metadata": {},
          "execution_count": 16
        }
      ]
    },
    {
      "cell_type": "code",
      "source": [
        "true_news.drop_duplicates(inplace=True)\n",
        "fake_news.drop_duplicates(inplace=True)"
      ],
      "metadata": {
        "execution": {
          "iopub.status.busy": "2024-05-05T13:14:13.17356Z",
          "iopub.execute_input": "2024-05-05T13:14:13.17566Z",
          "iopub.status.idle": "2024-05-05T13:14:13.472939Z",
          "shell.execute_reply.started": "2024-05-05T13:14:13.175629Z",
          "shell.execute_reply": "2024-05-05T13:14:13.471788Z"
        },
        "trusted": true,
        "id": "eVjUT9ZnYgpk"
      },
      "execution_count": 17,
      "outputs": []
    },
    {
      "cell_type": "code",
      "source": [
        "true_news[\"target\"] = 1\n",
        "fake_news[\"target\"] = 0"
      ],
      "metadata": {
        "execution": {
          "iopub.status.busy": "2024-05-05T13:14:13.474629Z",
          "iopub.execute_input": "2024-05-05T13:14:13.474967Z",
          "iopub.status.idle": "2024-05-05T13:14:13.481667Z",
          "shell.execute_reply.started": "2024-05-05T13:14:13.474937Z",
          "shell.execute_reply": "2024-05-05T13:14:13.480251Z"
        },
        "trusted": true,
        "id": "XCpD46_DYgpl"
      },
      "execution_count": 18,
      "outputs": []
    },
    {
      "cell_type": "code",
      "source": [
        "print(f\"There are {len(true_news)} texts\\n\")\n",
        "print(f\"The first 1 texts are these:\\n\")\n",
        "print(true_news[\"text\"][0])"
      ],
      "metadata": {
        "execution": {
          "iopub.status.busy": "2024-05-05T13:14:13.48351Z",
          "iopub.execute_input": "2024-05-05T13:14:13.483886Z",
          "iopub.status.idle": "2024-05-05T13:14:13.491397Z",
          "shell.execute_reply.started": "2024-05-05T13:14:13.483841Z",
          "shell.execute_reply": "2024-05-05T13:14:13.490198Z"
        },
        "trusted": true,
        "colab": {
          "base_uri": "https://localhost:8080/"
        },
        "id": "n-XJJDm3Ygpm",
        "outputId": "16f0d311-dbe7-41f0-c43a-103482d8fdc2"
      },
      "execution_count": 19,
      "outputs": [
        {
          "output_type": "stream",
          "name": "stdout",
          "text": [
            "There are 21211 texts\n",
            "\n",
            "The first 1 texts are these:\n",
            "\n",
            "WASHINGTON (Reuters) - The head of a conservative Republican faction in the U.S. Congress, who voted this month for a huge expansion of the national debt to pay for tax cuts, called himself a “fiscal conservative” on Sunday and urged budget restraint in 2018. In keeping with a sharp pivot under way among Republicans, U.S. Representative Mark Meadows, speaking on CBS’ “Face the Nation,” drew a hard line on federal spending, which lawmakers are bracing to do battle over in January. When they return from the holidays on Wednesday, lawmakers will begin trying to pass a federal budget in a fight likely to be linked to other issues, such as immigration policy, even as the November congressional election campaigns approach in which Republicans will seek to keep control of Congress. President Donald Trump and his Republicans want a big budget increase in military spending, while Democrats also want proportional increases for non-defense “discretionary” spending on programs that support education, scientific research, infrastructure, public health and environmental protection. “The (Trump) administration has already been willing to say: ‘We’re going to increase non-defense discretionary spending ... by about 7 percent,’” Meadows, chairman of the small but influential House Freedom Caucus, said on the program. “Now, Democrats are saying that’s not enough, we need to give the government a pay raise of 10 to 11 percent. For a fiscal conservative, I don’t see where the rationale is. ... Eventually you run out of other people’s money,” he said. Meadows was among Republicans who voted in late December for their party’s debt-financed tax overhaul, which is expected to balloon the federal budget deficit and add about $1.5 trillion over 10 years to the $20 trillion national debt. “It’s interesting to hear Mark talk about fiscal responsibility,” Democratic U.S. Representative Joseph Crowley said on CBS. Crowley said the Republican tax bill would require the  United States to borrow $1.5 trillion, to be paid off by future generations, to finance tax cuts for corporations and the rich. “This is one of the least ... fiscally responsible bills we’ve ever seen passed in the history of the House of Representatives. I think we’re going to be paying for this for many, many years to come,” Crowley said. Republicans insist the tax package, the biggest U.S. tax overhaul in more than 30 years,  will boost the economy and job growth. House Speaker Paul Ryan, who also supported the tax bill, recently went further than Meadows, making clear in a radio interview that welfare or “entitlement reform,” as the party often calls it, would be a top Republican priority in 2018. In Republican parlance, “entitlement” programs mean food stamps, housing assistance, Medicare and Medicaid health insurance for the elderly, poor and disabled, as well as other programs created by Washington to assist the needy. Democrats seized on Ryan’s early December remarks, saying they showed Republicans would try to pay for their tax overhaul by seeking spending cuts for social programs. But the goals of House Republicans may have to take a back seat to the Senate, where the votes of some Democrats will be needed to approve a budget and prevent a government shutdown. Democrats will use their leverage in the Senate, which Republicans narrowly control, to defend both discretionary non-defense programs and social spending, while tackling the issue of the “Dreamers,” people brought illegally to the country as children. Trump in September put a March 2018 expiration date on the Deferred Action for Childhood Arrivals, or DACA, program, which protects the young immigrants from deportation and provides them with work permits. The president has said in recent Twitter messages he wants funding for his proposed Mexican border wall and other immigration law changes in exchange for agreeing to help the Dreamers. Representative Debbie Dingell told CBS she did not favor linking that issue to other policy objectives, such as wall funding. “We need to do DACA clean,” she said.  On Wednesday, Trump aides will meet with congressional leaders to discuss those issues. That will be followed by a weekend of strategy sessions for Trump and Republican leaders on Jan. 6 and 7, the White House said. Trump was also scheduled to meet on Sunday with Florida Republican Governor Rick Scott, who wants more emergency aid. The House has passed an $81 billion aid package after hurricanes in Florida, Texas and Puerto Rico, and wildfires in California. The package far exceeded the $44 billion requested by the Trump administration. The Senate has not yet voted on the aid. \n"
          ]
        }
      ]
    },
    {
      "cell_type": "code",
      "source": [
        "print(f\"There are {len(fake_news)} texts\\n\")\n",
        "print(f\"The first 1 texts are these:\\n\")\n",
        "print(fake_news[\"text\"][0])"
      ],
      "metadata": {
        "execution": {
          "iopub.status.busy": "2024-05-05T13:14:13.493054Z",
          "iopub.execute_input": "2024-05-05T13:14:13.493417Z",
          "iopub.status.idle": "2024-05-05T13:14:13.500931Z",
          "shell.execute_reply.started": "2024-05-05T13:14:13.493376Z",
          "shell.execute_reply": "2024-05-05T13:14:13.499807Z"
        },
        "trusted": true,
        "colab": {
          "base_uri": "https://localhost:8080/"
        },
        "id": "ibL4x2o2Ygpn",
        "outputId": "145817a4-3840-4b52-dd8d-1a6d79cdf60a"
      },
      "execution_count": 20,
      "outputs": [
        {
          "output_type": "stream",
          "name": "stdout",
          "text": [
            "There are 23478 texts\n",
            "\n",
            "The first 1 texts are these:\n",
            "\n",
            "Donald Trump just couldn t wish all Americans a Happy New Year and leave it at that. Instead, he had to give a shout out to his enemies, haters and  the very dishonest fake news media.  The former reality show star had just one job to do and he couldn t do it. As our Country rapidly grows stronger and smarter, I want to wish all of my friends, supporters, enemies, haters, and even the very dishonest Fake News Media, a Happy and Healthy New Year,  President Angry Pants tweeted.  2018 will be a great year for America! As our Country rapidly grows stronger and smarter, I want to wish all of my friends, supporters, enemies, haters, and even the very dishonest Fake News Media, a Happy and Healthy New Year. 2018 will be a great year for America!  Donald J. Trump (@realDonaldTrump) December 31, 2017Trump s tweet went down about as welll as you d expect.What kind of president sends a New Year s greeting like this despicable, petty, infantile gibberish? Only Trump! His lack of decency won t even allow him to rise above the gutter long enough to wish the American citizens a happy new year!  Bishop Talbert Swan (@TalbertSwan) December 31, 2017no one likes you  Calvin (@calvinstowell) December 31, 2017Your impeachment would make 2018 a great year for America, but I ll also accept regaining control of Congress.  Miranda Yaver (@mirandayaver) December 31, 2017Do you hear yourself talk? When you have to include that many people that hate you you have to wonder? Why do the they all hate me?  Alan Sandoval (@AlanSandoval13) December 31, 2017Who uses the word Haters in a New Years wish??  Marlene (@marlene399) December 31, 2017You can t just say happy new year?  Koren pollitt (@Korencarpenter) December 31, 2017Here s Trump s New Year s Eve tweet from 2016.Happy New Year to all, including to my many enemies and those who have fought me and lost so badly they just don t know what to do. Love!  Donald J. Trump (@realDonaldTrump) December 31, 2016This is nothing new for Trump. He s been doing this for years.Trump has directed messages to his  enemies  and  haters  for New Year s, Easter, Thanksgiving, and the anniversary of 9/11. pic.twitter.com/4FPAe2KypA  Daniel Dale (@ddale8) December 31, 2017Trump s holiday tweets are clearly not presidential.How long did he work at Hallmark before becoming President?  Steven Goodine (@SGoodine) December 31, 2017He s always been like this . . . the only difference is that in the last few years, his filter has been breaking down.  Roy Schulze (@thbthttt) December 31, 2017Who, apart from a teenager uses the term haters?  Wendy (@WendyWhistles) December 31, 2017he s a fucking 5 year old  Who Knows (@rainyday80) December 31, 2017So, to all the people who voted for this a hole thinking he would change once he got into power, you were wrong! 70-year-old men don t change and now he s a year older.Photo by Andrew Burton/Getty Images.\n"
          ]
        }
      ]
    },
    {
      "cell_type": "code",
      "source": [
        "import re\n",
        "from bs4 import BeautifulSoup\n",
        "import string\n",
        "import random\n",
        "import spacy as sp\n",
        "import tensorflow as tf\n",
        "from tensorflow.keras import layers\n",
        "from tensorflow.keras.preprocessing.text import Tokenizer\n",
        "from tensorflow.keras.preprocessing.sequence import pad_sequences\n",
        "from sklearn.model_selection import train_test_split\n",
        "import matplotlib.pyplot as plt"
      ],
      "metadata": {
        "execution": {
          "iopub.status.busy": "2024-05-05T13:14:13.502527Z",
          "iopub.execute_input": "2024-05-05T13:14:13.502853Z",
          "iopub.status.idle": "2024-05-05T13:14:20.94976Z",
          "shell.execute_reply.started": "2024-05-05T13:14:13.502825Z",
          "shell.execute_reply": "2024-05-05T13:14:20.948443Z"
        },
        "trusted": true,
        "id": "yrWHd3EiYgpo"
      },
      "execution_count": 21,
      "outputs": []
    },
    {
      "cell_type": "code",
      "source": [
        "true_news.drop([\"subject\", \"date\", \"title\"], axis=1, inplace=True)\n",
        "fake_news.drop([\"subject\", \"date\", \"title\"], axis=1, inplace=True)"
      ],
      "metadata": {
        "execution": {
          "iopub.status.busy": "2024-05-05T13:14:20.955714Z",
          "iopub.execute_input": "2024-05-05T13:14:20.956495Z",
          "iopub.status.idle": "2024-05-05T13:14:20.971643Z",
          "shell.execute_reply.started": "2024-05-05T13:14:20.956456Z",
          "shell.execute_reply": "2024-05-05T13:14:20.970284Z"
        },
        "trusted": true,
        "id": "a3qiBJ0AYgpo"
      },
      "execution_count": 22,
      "outputs": []
    },
    {
      "cell_type": "code",
      "source": [
        "total_news = 2000\n",
        "fake_news = fake_news[:total_news]\n",
        "true_news = true_news[:total_news]\n",
        "len(fake_news), len(true_news)"
      ],
      "metadata": {
        "execution": {
          "iopub.status.busy": "2024-05-05T13:14:20.973612Z",
          "iopub.execute_input": "2024-05-05T13:14:20.974202Z",
          "iopub.status.idle": "2024-05-05T13:14:20.989441Z",
          "shell.execute_reply.started": "2024-05-05T13:14:20.974159Z",
          "shell.execute_reply": "2024-05-05T13:14:20.986874Z"
        },
        "trusted": true,
        "colab": {
          "base_uri": "https://localhost:8080/"
        },
        "id": "NE75oM6uYgpp",
        "outputId": "6b8eed3f-d612-435f-ddc5-e03757ee8d53"
      },
      "execution_count": 23,
      "outputs": [
        {
          "output_type": "execute_result",
          "data": {
            "text/plain": [
              "(2000, 2000)"
            ]
          },
          "metadata": {},
          "execution_count": 23
        }
      ]
    },
    {
      "cell_type": "code",
      "source": [
        "news = pd.concat([true_news, fake_news], ignore_index=True)\n",
        "news = news.sample(frac=1, random_state=42).reset_index(drop=True)\n",
        "news.head()"
      ],
      "metadata": {
        "execution": {
          "iopub.status.busy": "2024-05-05T13:14:20.990592Z",
          "iopub.execute_input": "2024-05-05T13:14:20.991612Z",
          "iopub.status.idle": "2024-05-05T13:14:21.009785Z",
          "shell.execute_reply.started": "2024-05-05T13:14:20.991572Z",
          "shell.execute_reply": "2024-05-05T13:14:21.00814Z"
        },
        "trusted": true,
        "colab": {
          "base_uri": "https://localhost:8080/",
          "height": 206
        },
        "id": "nDpyfY1rYgpq",
        "outputId": "87289294-fbfb-48aa-8ae6-ff91f8e6aec6"
      },
      "execution_count": 24,
      "outputs": [
        {
          "output_type": "execute_result",
          "data": {
            "text/plain": [
              "                                                text  target\n",
              "0  NEW YORK (Reuters) - Haitian immigrants on Tue...       1\n",
              "1  Remember when Republicans were told to stop ta...       0\n",
              "2  WASHINGTON (Reuters) - Republican Senator Rand...       1\n",
              "3  Democratic National Committee Chairman Tom Per...       0\n",
              "4  Republican Senator Rand Paul spoke with CNN s ...       0"
            ],
            "text/html": [
              "\n",
              "  <div id=\"df-9cde9de6-2795-48aa-bcd0-3627835b17e3\" class=\"colab-df-container\">\n",
              "    <div>\n",
              "<style scoped>\n",
              "    .dataframe tbody tr th:only-of-type {\n",
              "        vertical-align: middle;\n",
              "    }\n",
              "\n",
              "    .dataframe tbody tr th {\n",
              "        vertical-align: top;\n",
              "    }\n",
              "\n",
              "    .dataframe thead th {\n",
              "        text-align: right;\n",
              "    }\n",
              "</style>\n",
              "<table border=\"1\" class=\"dataframe\">\n",
              "  <thead>\n",
              "    <tr style=\"text-align: right;\">\n",
              "      <th></th>\n",
              "      <th>text</th>\n",
              "      <th>target</th>\n",
              "    </tr>\n",
              "  </thead>\n",
              "  <tbody>\n",
              "    <tr>\n",
              "      <th>0</th>\n",
              "      <td>NEW YORK (Reuters) - Haitian immigrants on Tue...</td>\n",
              "      <td>1</td>\n",
              "    </tr>\n",
              "    <tr>\n",
              "      <th>1</th>\n",
              "      <td>Remember when Republicans were told to stop ta...</td>\n",
              "      <td>0</td>\n",
              "    </tr>\n",
              "    <tr>\n",
              "      <th>2</th>\n",
              "      <td>WASHINGTON (Reuters) - Republican Senator Rand...</td>\n",
              "      <td>1</td>\n",
              "    </tr>\n",
              "    <tr>\n",
              "      <th>3</th>\n",
              "      <td>Democratic National Committee Chairman Tom Per...</td>\n",
              "      <td>0</td>\n",
              "    </tr>\n",
              "    <tr>\n",
              "      <th>4</th>\n",
              "      <td>Republican Senator Rand Paul spoke with CNN s ...</td>\n",
              "      <td>0</td>\n",
              "    </tr>\n",
              "  </tbody>\n",
              "</table>\n",
              "</div>\n",
              "    <div class=\"colab-df-buttons\">\n",
              "\n",
              "  <div class=\"colab-df-container\">\n",
              "    <button class=\"colab-df-convert\" onclick=\"convertToInteractive('df-9cde9de6-2795-48aa-bcd0-3627835b17e3')\"\n",
              "            title=\"Convert this dataframe to an interactive table.\"\n",
              "            style=\"display:none;\">\n",
              "\n",
              "  <svg xmlns=\"http://www.w3.org/2000/svg\" height=\"24px\" viewBox=\"0 -960 960 960\">\n",
              "    <path d=\"M120-120v-720h720v720H120Zm60-500h600v-160H180v160Zm220 220h160v-160H400v160Zm0 220h160v-160H400v160ZM180-400h160v-160H180v160Zm440 0h160v-160H620v160ZM180-180h160v-160H180v160Zm440 0h160v-160H620v160Z\"/>\n",
              "  </svg>\n",
              "    </button>\n",
              "\n",
              "  <style>\n",
              "    .colab-df-container {\n",
              "      display:flex;\n",
              "      gap: 12px;\n",
              "    }\n",
              "\n",
              "    .colab-df-convert {\n",
              "      background-color: #E8F0FE;\n",
              "      border: none;\n",
              "      border-radius: 50%;\n",
              "      cursor: pointer;\n",
              "      display: none;\n",
              "      fill: #1967D2;\n",
              "      height: 32px;\n",
              "      padding: 0 0 0 0;\n",
              "      width: 32px;\n",
              "    }\n",
              "\n",
              "    .colab-df-convert:hover {\n",
              "      background-color: #E2EBFA;\n",
              "      box-shadow: 0px 1px 2px rgba(60, 64, 67, 0.3), 0px 1px 3px 1px rgba(60, 64, 67, 0.15);\n",
              "      fill: #174EA6;\n",
              "    }\n",
              "\n",
              "    .colab-df-buttons div {\n",
              "      margin-bottom: 4px;\n",
              "    }\n",
              "\n",
              "    [theme=dark] .colab-df-convert {\n",
              "      background-color: #3B4455;\n",
              "      fill: #D2E3FC;\n",
              "    }\n",
              "\n",
              "    [theme=dark] .colab-df-convert:hover {\n",
              "      background-color: #434B5C;\n",
              "      box-shadow: 0px 1px 3px 1px rgba(0, 0, 0, 0.15);\n",
              "      filter: drop-shadow(0px 1px 2px rgba(0, 0, 0, 0.3));\n",
              "      fill: #FFFFFF;\n",
              "    }\n",
              "  </style>\n",
              "\n",
              "    <script>\n",
              "      const buttonEl =\n",
              "        document.querySelector('#df-9cde9de6-2795-48aa-bcd0-3627835b17e3 button.colab-df-convert');\n",
              "      buttonEl.style.display =\n",
              "        google.colab.kernel.accessAllowed ? 'block' : 'none';\n",
              "\n",
              "      async function convertToInteractive(key) {\n",
              "        const element = document.querySelector('#df-9cde9de6-2795-48aa-bcd0-3627835b17e3');\n",
              "        const dataTable =\n",
              "          await google.colab.kernel.invokeFunction('convertToInteractive',\n",
              "                                                    [key], {});\n",
              "        if (!dataTable) return;\n",
              "\n",
              "        const docLinkHtml = 'Like what you see? Visit the ' +\n",
              "          '<a target=\"_blank\" href=https://colab.research.google.com/notebooks/data_table.ipynb>data table notebook</a>'\n",
              "          + ' to learn more about interactive tables.';\n",
              "        element.innerHTML = '';\n",
              "        dataTable['output_type'] = 'display_data';\n",
              "        await google.colab.output.renderOutput(dataTable, element);\n",
              "        const docLink = document.createElement('div');\n",
              "        docLink.innerHTML = docLinkHtml;\n",
              "        element.appendChild(docLink);\n",
              "      }\n",
              "    </script>\n",
              "  </div>\n",
              "\n",
              "\n",
              "<div id=\"df-bf817acf-689b-4dba-ab7b-fd8add40026f\">\n",
              "  <button class=\"colab-df-quickchart\" onclick=\"quickchart('df-bf817acf-689b-4dba-ab7b-fd8add40026f')\"\n",
              "            title=\"Suggest charts\"\n",
              "            style=\"display:none;\">\n",
              "\n",
              "<svg xmlns=\"http://www.w3.org/2000/svg\" height=\"24px\"viewBox=\"0 0 24 24\"\n",
              "     width=\"24px\">\n",
              "    <g>\n",
              "        <path d=\"M19 3H5c-1.1 0-2 .9-2 2v14c0 1.1.9 2 2 2h14c1.1 0 2-.9 2-2V5c0-1.1-.9-2-2-2zM9 17H7v-7h2v7zm4 0h-2V7h2v10zm4 0h-2v-4h2v4z\"/>\n",
              "    </g>\n",
              "</svg>\n",
              "  </button>\n",
              "\n",
              "<style>\n",
              "  .colab-df-quickchart {\n",
              "      --bg-color: #E8F0FE;\n",
              "      --fill-color: #1967D2;\n",
              "      --hover-bg-color: #E2EBFA;\n",
              "      --hover-fill-color: #174EA6;\n",
              "      --disabled-fill-color: #AAA;\n",
              "      --disabled-bg-color: #DDD;\n",
              "  }\n",
              "\n",
              "  [theme=dark] .colab-df-quickchart {\n",
              "      --bg-color: #3B4455;\n",
              "      --fill-color: #D2E3FC;\n",
              "      --hover-bg-color: #434B5C;\n",
              "      --hover-fill-color: #FFFFFF;\n",
              "      --disabled-bg-color: #3B4455;\n",
              "      --disabled-fill-color: #666;\n",
              "  }\n",
              "\n",
              "  .colab-df-quickchart {\n",
              "    background-color: var(--bg-color);\n",
              "    border: none;\n",
              "    border-radius: 50%;\n",
              "    cursor: pointer;\n",
              "    display: none;\n",
              "    fill: var(--fill-color);\n",
              "    height: 32px;\n",
              "    padding: 0;\n",
              "    width: 32px;\n",
              "  }\n",
              "\n",
              "  .colab-df-quickchart:hover {\n",
              "    background-color: var(--hover-bg-color);\n",
              "    box-shadow: 0 1px 2px rgba(60, 64, 67, 0.3), 0 1px 3px 1px rgba(60, 64, 67, 0.15);\n",
              "    fill: var(--button-hover-fill-color);\n",
              "  }\n",
              "\n",
              "  .colab-df-quickchart-complete:disabled,\n",
              "  .colab-df-quickchart-complete:disabled:hover {\n",
              "    background-color: var(--disabled-bg-color);\n",
              "    fill: var(--disabled-fill-color);\n",
              "    box-shadow: none;\n",
              "  }\n",
              "\n",
              "  .colab-df-spinner {\n",
              "    border: 2px solid var(--fill-color);\n",
              "    border-color: transparent;\n",
              "    border-bottom-color: var(--fill-color);\n",
              "    animation:\n",
              "      spin 1s steps(1) infinite;\n",
              "  }\n",
              "\n",
              "  @keyframes spin {\n",
              "    0% {\n",
              "      border-color: transparent;\n",
              "      border-bottom-color: var(--fill-color);\n",
              "      border-left-color: var(--fill-color);\n",
              "    }\n",
              "    20% {\n",
              "      border-color: transparent;\n",
              "      border-left-color: var(--fill-color);\n",
              "      border-top-color: var(--fill-color);\n",
              "    }\n",
              "    30% {\n",
              "      border-color: transparent;\n",
              "      border-left-color: var(--fill-color);\n",
              "      border-top-color: var(--fill-color);\n",
              "      border-right-color: var(--fill-color);\n",
              "    }\n",
              "    40% {\n",
              "      border-color: transparent;\n",
              "      border-right-color: var(--fill-color);\n",
              "      border-top-color: var(--fill-color);\n",
              "    }\n",
              "    60% {\n",
              "      border-color: transparent;\n",
              "      border-right-color: var(--fill-color);\n",
              "    }\n",
              "    80% {\n",
              "      border-color: transparent;\n",
              "      border-right-color: var(--fill-color);\n",
              "      border-bottom-color: var(--fill-color);\n",
              "    }\n",
              "    90% {\n",
              "      border-color: transparent;\n",
              "      border-bottom-color: var(--fill-color);\n",
              "    }\n",
              "  }\n",
              "</style>\n",
              "\n",
              "  <script>\n",
              "    async function quickchart(key) {\n",
              "      const quickchartButtonEl =\n",
              "        document.querySelector('#' + key + ' button');\n",
              "      quickchartButtonEl.disabled = true;  // To prevent multiple clicks.\n",
              "      quickchartButtonEl.classList.add('colab-df-spinner');\n",
              "      try {\n",
              "        const charts = await google.colab.kernel.invokeFunction(\n",
              "            'suggestCharts', [key], {});\n",
              "      } catch (error) {\n",
              "        console.error('Error during call to suggestCharts:', error);\n",
              "      }\n",
              "      quickchartButtonEl.classList.remove('colab-df-spinner');\n",
              "      quickchartButtonEl.classList.add('colab-df-quickchart-complete');\n",
              "    }\n",
              "    (() => {\n",
              "      let quickchartButtonEl =\n",
              "        document.querySelector('#df-bf817acf-689b-4dba-ab7b-fd8add40026f button');\n",
              "      quickchartButtonEl.style.display =\n",
              "        google.colab.kernel.accessAllowed ? 'block' : 'none';\n",
              "    })();\n",
              "  </script>\n",
              "</div>\n",
              "\n",
              "    </div>\n",
              "  </div>\n"
            ],
            "application/vnd.google.colaboratory.intrinsic+json": {
              "type": "dataframe",
              "variable_name": "news",
              "summary": "{\n  \"name\": \"news\",\n  \"rows\": 4000,\n  \"fields\": [\n    {\n      \"column\": \"text\",\n      \"properties\": {\n        \"dtype\": \"string\",\n        \"num_unique_values\": 3998,\n        \"samples\": [\n          \"BEIJING (Reuters) - Japan talking only about sanctions on North Korea rather than dialogue will be seen as going against United Nations resolutions, Chinese Foreign Minister Wang Yi told his Japanese counterpart. Tensions have continued to rise since North Korea carried out its sixth nuclear test on Sept. 3, prompting a new round of U.N. sanctions. Wang told Japan Foreign Minister Taro Kono on the sidelines of a United Nations meeting in New York that the situation on the Korean peninsula was getting increasingly serious and all sides needed to remain calm. Resuming peace talks was just as much a part of the U.N. resolutions as enforcing sanctions, Wang said, according to a statement issued by China\\u2019s Foreign Ministry late on Friday. \\u201cIf the Japanese side only talks about sanctions and does not bring up talks, or even goes against talks, it will be seen as contravening Security Council resolutions,\\u201d the ministry cited Wang as saying. China hoped that Japan talked and acted cautiously and played a constructive role on the nuclear issue, he said. Beijing has repeatedly expressed concern about the rise of tensions over North Korea and, while it too has signed up for the increasingly tough U.N. sanctions, it has also urged a return to talks and for all parties to exercise restraint. On Friday, Russia urged \\u201chot heads\\u201d to calm down as the United States admitted it felt \\u201cchallenged\\u201d by North Korea\\u2019s warning that it could test a hydrogen bomb over the Pacific. Trump called North Korean leader Kim Jong Un a \\u201cmadman\\u201d on Friday, a day after Kim dubbed him a \\u201cmentally deranged U.S. dotard\\u201d who would face the \\u201chighest level of hard-line countermeasure in history\\u201d in retaliation for Trump saying the U.S. would \\u201ctotally destroy\\u201d North Korea if it threatened the United States or its allies. \",\n          \"It s certainly no secret that Trump struggles with vocabulary words, and his spelling isn t that great, either (who can forget covfefe?). He frequently assumes things he s completely unaware of are extremely simple, and is caught off guard when they re not. So it stands to reason that as the investigation continues to unfold, and the legalese flies fast and furious, he might have some trouble understanding what s going on   or, even worse, rage-tweeting about it.Not to worry! George Takei is here to help, with a brilliant tweet that s as much solid advice as it is sick burn. Here it is below:Donald: Since it's going to come up, it's spelled \\\"subpoena\\\" not \\\"supeena\\\" and \\\"indictment\\\" not \\\"inditement.\\\"You're welcome.  George Takei (@GeorgeTakei) August 7, 2017 Donald. Since it s going to come up, it s spelled  subpoena  not  supeena  and  indictment  not  inditement. Beautiful. Considering all the time Trump spends on Twitter, and how poorly he deals with any form of criticism, you can bet he ll be fuming if he reads it. Keep up the trolling, Takei!You might also enjoy Featured image via Mat Hayward/Getty Images for We Day\",\n          \"I ll admit it: I am not a huge fan of tribute songs. Making music is something sacred, and it s so hard to take topical songs seriously, unless it s like  Bob Dylan? Punk music? I m not sure, but contemporaneous talk-singing is just not my bag usually, and that s generally what people come up with as  protest  songs. That said, this gospel jam from Mykal Kilgore, a YouTube (and movie) star, is entirely different. It was inspired by a testy exchange last week between the always-feisty Rep. Maxine Waters (D-CA) and Treasury Secretary Steven Mnuchin. From the video description:Our beloved  Auntie  Maxine Waters laid this sermon down so good that I had to sing about it! Whenever anybody tries to distract me or block me (even with praise or platitudes) I m gonna have to let them know that I m #ReclaimingMyTime.It s a common tactic for old white Republican assholes either in Congress or before it: When they don t want to answer questions from women, Democrats, or especially women Democrats, they waste the time allotted to their questioner with meaningless compliments or interruptions. If they re creative types (did you know Mnuchin was a movie producer?), they can usually get away with wasting all of the time they would normally spend answering questions.When Rep. Waters grilled Mnuchin on July 27th during a House Financial Services Committee hearing about why she hadn t heard back on her request for information from the Treasury on Donald Trump s ties to Russian banks, that s exactly what Mnuchin tried to do. Rather than answering her question, the Treasury Secretary immediately launched into a spiel about  everything you ve done  for the state of California, prompting Waters to remind him that he was on her time, not his own.  I m reclaiming my time,  she said, noting that it was limited.Like the infamous  nevertheless, she persisted  exchange between Mitch McConnell and Elizabeth Warren during the confirmation hearing for Attorney General Jeff Sessions, the exchange almost immediately became a meme.But rather than inspiring a line of shirts, the Thursday snapshot of what it s like for women in Congress became lyrics for a surprisingly good song.Now reclaim a little of your time, and watch the video:Featured image via Chelsea Guglielmino/Getty Images\"\n        ],\n        \"semantic_type\": \"\",\n        \"description\": \"\"\n      }\n    },\n    {\n      \"column\": \"target\",\n      \"properties\": {\n        \"dtype\": \"number\",\n        \"std\": 0,\n        \"min\": 0,\n        \"max\": 1,\n        \"num_unique_values\": 2,\n        \"samples\": [\n          0,\n          1\n        ],\n        \"semantic_type\": \"\",\n        \"description\": \"\"\n      }\n    }\n  ]\n}"
            }
          },
          "metadata": {},
          "execution_count": 24
        }
      ]
    },
    {
      "cell_type": "code",
      "source": [
        "unics, counts = np.unique(news['target'], return_counts=True)\n",
        "unics, counts"
      ],
      "metadata": {
        "execution": {
          "iopub.status.busy": "2024-05-05T13:14:21.011536Z",
          "iopub.execute_input": "2024-05-05T13:14:21.012136Z",
          "iopub.status.idle": "2024-05-05T13:14:21.02015Z",
          "shell.execute_reply.started": "2024-05-05T13:14:21.012084Z",
          "shell.execute_reply": "2024-05-05T13:14:21.019141Z"
        },
        "trusted": true,
        "colab": {
          "base_uri": "https://localhost:8080/"
        },
        "id": "qqv23ywmYgpq",
        "outputId": "318fac03-2722-4433-d2b7-3e921d54f39e"
      },
      "execution_count": 25,
      "outputs": [
        {
          "output_type": "execute_result",
          "data": {
            "text/plain": [
              "(array([0, 1]), array([2000, 2000]))"
            ]
          },
          "metadata": {},
          "execution_count": 25
        }
      ]
    },
    {
      "cell_type": "code",
      "source": [
        "nlp = sp.load(\"en_core_web_sm\")\n",
        "stop_words = sp.lang.en.STOP_WORDS"
      ],
      "metadata": {
        "execution": {
          "iopub.status.busy": "2024-05-05T13:14:21.021961Z",
          "iopub.execute_input": "2024-05-05T13:14:21.022391Z",
          "iopub.status.idle": "2024-05-05T13:14:22.368818Z",
          "shell.execute_reply.started": "2024-05-05T13:14:21.022347Z",
          "shell.execute_reply": "2024-05-05T13:14:22.367644Z"
        },
        "trusted": true,
        "id": "_KjVV9m8Ygpq"
      },
      "execution_count": 26,
      "outputs": []
    },
    {
      "cell_type": "code",
      "source": [
        "def preprocessing(text):\n",
        "    \"\"\"\n",
        "\n",
        "    Args:\n",
        "      text: texts (str type) with stop words, unwanted characters and punctuations\n",
        "\n",
        "    Returns:\n",
        "      clean texts without stop words and punctuation\n",
        "\n",
        "    \"\"\"\n",
        "    text = BeautifulSoup(text, \"lxml\").get_text()\n",
        "    text = re.sub(r\"http\\S+\", \"\", text)\n",
        "    text = re.sub(r\"@\\w+\", \"\", text)\n",
        "    text = re.sub(r\"[^a-zA-Z]\", \" \", text).strip()\n",
        "    text = re.sub(r\"  +\", \" \", text).strip()\n",
        "    text = text.lower()\n",
        "    doc = nlp(text)\n",
        "    words = [token.text for token in doc if not token.is_stop and token.text not in string.punctuation]\n",
        "    text = \" \".join(words)\n",
        "\n",
        "    return text"
      ],
      "metadata": {
        "execution": {
          "iopub.status.busy": "2024-05-05T13:14:22.370304Z",
          "iopub.execute_input": "2024-05-05T13:14:22.37065Z",
          "iopub.status.idle": "2024-05-05T13:14:22.378769Z",
          "shell.execute_reply.started": "2024-05-05T13:14:22.370621Z",
          "shell.execute_reply": "2024-05-05T13:14:22.377623Z"
        },
        "trusted": true,
        "id": "l3SgP_bpYgpr"
      },
      "execution_count": 27,
      "outputs": []
    },
    {
      "cell_type": "code",
      "source": [
        "test = news[\"text\"][1]\n",
        "test"
      ],
      "metadata": {
        "execution": {
          "iopub.status.busy": "2024-05-05T13:14:22.380282Z",
          "iopub.execute_input": "2024-05-05T13:14:22.380738Z",
          "iopub.status.idle": "2024-05-05T13:14:22.394051Z",
          "shell.execute_reply.started": "2024-05-05T13:14:22.380698Z",
          "shell.execute_reply": "2024-05-05T13:14:22.39278Z"
        },
        "trusted": true,
        "colab": {
          "base_uri": "https://localhost:8080/",
          "height": 192
        },
        "id": "zV0WlURNYgpr",
        "outputId": "36274438-f8de-4a97-9f56-5d5a3c282890"
      },
      "execution_count": 28,
      "outputs": [
        {
          "output_type": "execute_result",
          "data": {
            "text/plain": [
              "'Remember when Republicans were told to stop talking about rape because they were repeatedly sticking their foot in their mouths? Well, now they are being told to stop talking about their attempt to repeal the Affordable Care Act.Ever since Republicans giddily started preparing to repeal the landmark healthcare law, they faced a sea of angry constituents at town hall events across the country. As the GOP dug in their heels to strip healthcare from millions of Americans, their own voting base began to realize that their own healthcare was threatened as well and that the law they referred to as Obamacare wasn t so bad after all.In fact, many realize that the law saved their lives and they don t want Republicans to repeal it and put their lives back in jeopardy.But Republicans shoved their bill through the House without even reading it and getting the CBO to score it. The bill lets states opt out of requiring insurance companies to cover people with pre-existing conditions, which have now been defined as including sexual assault, pregnancy, cancer, acne, asthma, diabetes, sleep apnea, Alzheimer s disease, and a whole host of other conditions and medical problems, a list of which you can find here.This pretty much would allow insurance companies to discriminate against millions of Americans, conservatives included.The bill also slashed $880 billion from Medicaid, which covers millions of low-income Americans, in order to fund a tax gift for the wealthy. Again, millions of Americans, including conservatives in red states, got healthcare because the Affordable Care Act expanded Medicaid.Understandably, most Americans are pissed at Republicans, especially after House Republicans celebrated taking healthcare from people by throwing a beer party on Capitol Hill and smiling and laughing about it at the White House Rose Garden while Donald Trump spiked the football.And Americans have been flocking to town halls ever since to shame Republicans for their actions. Many Republicans have even been too cowardly to even attend their own town halls to face the music.Those who have shown up have only angered their constituents even more by lying about what s in the bill and making any lame excuse they can think of to justify stripping healthcare from millions.That s why a conservative consulting firm in now telling Republicans to stop talking about repealing the Affordable Care Act.According to Raw Story,In a memo issued this week by conservative firm WPA Intelligence, lawmakers were cautioned to avoid using the term  full repeal  because it is highly unpopular.So, it appears that Republicans may now go to their constituents and claim that their bill is only a partial repeal even though it is, in fact, a full repeal.Make no mistake, this consulting firm knows that Republicans are committing political suicide. That s why they warned them to stop talking so much about the healthcare repeal.But the damage has already been done and will get even worse if Republicans send the bill to Trump for his signature.The American people, including conservative voters, now know that Republicans were full of shit when they insisted that a full repeal was the only way to fix the Affordable Care Act. The fact is that these problems can be easily fixed if Republicans are willing to work with Democrats. Instead of admitting they were wrong, Republicans doubled down and now they get to experience the consequences in 2018 when a Democratic wave could very well sweep them out of power in Congress.Featured Image: Mark Wilson/Getty Images'"
            ],
            "application/vnd.google.colaboratory.intrinsic+json": {
              "type": "string"
            }
          },
          "metadata": {},
          "execution_count": 28
        }
      ]
    },
    {
      "cell_type": "code",
      "source": [
        "print(preprocessing(test))"
      ],
      "metadata": {
        "execution": {
          "iopub.status.busy": "2024-05-05T13:14:22.395629Z",
          "iopub.execute_input": "2024-05-05T13:14:22.396073Z",
          "iopub.status.idle": "2024-05-05T13:14:22.548209Z",
          "shell.execute_reply.started": "2024-05-05T13:14:22.396032Z",
          "shell.execute_reply": "2024-05-05T13:14:22.547087Z"
        },
        "trusted": true,
        "colab": {
          "base_uri": "https://localhost:8080/"
        },
        "id": "U-Uzd_kqYgpr",
        "outputId": "e086f275-794e-43e3-8798-487a78c2aa7f"
      },
      "execution_count": 29,
      "outputs": [
        {
          "output_type": "stream",
          "name": "stdout",
          "text": [
            "remember republicans told stop talking rape repeatedly sticking foot mouths told stop talking attempt repeal affordable care act republicans giddily started preparing repeal landmark healthcare law faced sea angry constituents town hall events country gop dug heels strip healthcare millions americans voting base began realize healthcare threatened law referred obamacare wasn t bad fact realize law saved lives don t want republicans repeal lives jeopardy republicans shoved bill house reading getting cbo score bill lets states opt requiring insurance companies cover people pre existing conditions defined including sexual assault pregnancy cancer acne asthma diabetes sleep apnea alzheimer s disease host conditions medical problems list find pretty allow insurance companies discriminate millions americans conservatives included bill slashed billion medicaid covers millions low income americans order fund tax gift wealthy millions americans including conservatives red states got healthcare affordable care act expanded medicaid understandably americans pissed republicans especially house republicans celebrated taking healthcare people throwing beer party capitol hill smiling laughing white house rose garden donald trump spiked football americans flocking town halls shame republicans actions republicans cowardly attend town halls face music shown angered constituents lying s bill making lame excuse think justify stripping healthcare millions s conservative consulting firm telling republicans stop talking repealing affordable care act according raw story memo issued week conservative firm wpa intelligence lawmakers cautioned avoid term repeal highly unpopular appears republicans constituents claim bill partial repeal fact repeal mistake consulting firm knows republicans committing political suicide s warned stop talking healthcare repeal damage worse republicans send bill trump signature american people including conservative voters know republicans shit insisted repeal way fix affordable care act fact problems easily fixed republicans willing work democrats instead admitting wrong republicans doubled experience consequences democratic wave sweep power congress featured image mark wilson getty images\n"
          ]
        }
      ]
    },
    {
      "cell_type": "code",
      "source": [
        "sentences = list(news[\"text\"])\n",
        "labels = list(news[\"target\"])"
      ],
      "metadata": {
        "execution": {
          "iopub.status.busy": "2024-05-05T13:14:22.549515Z",
          "iopub.execute_input": "2024-05-05T13:14:22.549835Z",
          "iopub.status.idle": "2024-05-05T13:14:22.556363Z",
          "shell.execute_reply.started": "2024-05-05T13:14:22.549805Z",
          "shell.execute_reply": "2024-05-05T13:14:22.55539Z"
        },
        "trusted": true,
        "id": "CVz0WpzxYgps"
      },
      "execution_count": 30,
      "outputs": []
    },
    {
      "cell_type": "code",
      "source": [
        "sentences = [preprocessing(sentence) for sentence in sentences]"
      ],
      "metadata": {
        "execution": {
          "iopub.status.busy": "2024-05-05T13:14:22.557836Z",
          "iopub.execute_input": "2024-05-05T13:14:22.558155Z",
          "iopub.status.idle": "2024-05-05T13:19:28.096709Z",
          "shell.execute_reply.started": "2024-05-05T13:14:22.558128Z",
          "shell.execute_reply": "2024-05-05T13:19:28.095378Z"
        },
        "trusted": true,
        "id": "lDBaikl6Ygps"
      },
      "execution_count": 31,
      "outputs": []
    },
    {
      "cell_type": "code",
      "source": [
        "for _ in range(2):\n",
        "  print(sentences[random.randint(0, len(news) -1 )])"
      ],
      "metadata": {
        "execution": {
          "iopub.status.busy": "2024-05-05T13:19:28.098417Z",
          "iopub.execute_input": "2024-05-05T13:19:28.098833Z",
          "iopub.status.idle": "2024-05-05T13:19:28.105255Z",
          "shell.execute_reply.started": "2024-05-05T13:19:28.098791Z",
          "shell.execute_reply": "2024-05-05T13:19:28.104129Z"
        },
        "trusted": true,
        "colab": {
          "base_uri": "https://localhost:8080/"
        },
        "id": "1L_lo2aOYgpt",
        "outputId": "d97adea0-0a38-482d-8983-12e19b64d57c"
      },
      "execution_count": 32,
      "outputs": [
        {
          "output_type": "stream",
          "name": "stdout",
          "text": [
            "donald trump stopped hawaii totally kenya en route country day trip asia wasn t love people republicans hold office state s seat house reality star won percent vote hawaii presidential election birther chief noticed welcome kenya signs greeted protesters trump dogged barack obama years floating birther conspiracy theory order delegitimize country s black president holy crap trump greeted welcome kenya signs hawaii pic twitter com q uxy vc holly o reilly november protesters schooled trump obama s birthplace welcome kenya growing crowd protests trump honolulu state capitol visit honolulu pic twitter com kntefjsvf jaweed kaleem november sign read bad bush look good aloha means goodbye read sign hawaiians forget trump tried discredit hawaii officials obama s birth certificate jeff sessions dismissed hawaii island pacific keith boykin november trump prison read man s t shirt vet called trump remarks disparaging sen john mccain s military service hawaii residents lot signs issues especially resonate islands climate change nuclear threats racism pic twitter com cpuwc d l jaweed kaleem november president barack obama hawaii s native son loved twitter user said trump supporters contrast hundreds protesters hawaiians resist trump s agenda rough translation resist hawaiian pic twitter com usbocga za jaweed kaleem november watch trump protest state capitol like pro trump people lol hawaiij hawaii pic twitter com npmtozx je kate ozawa november presidents deplane air force typically greeted enthusiastic crowd trump s case supporters mix military service members civilians greeted joint base pearl harbor hickam protesters formed far bigger crowd largest group protesters gathered state capitol kaniela ing democrat state s house representatives joined protesters state rep said wave alohameansgoodbye sign hawaii state capitol s anti trump protest michelle broder november idea aloha spirit welcome comes said s leader m o making america welcoming place groups people s need draw line s simply welcome added photo andrew burton getty images\n",
            "washington reuters president donald trump s tax reform plans won partial support friday republican u s senator rand paul said massive tax cuts party far united achieve main item domestic agenda trump s drive overhaul u s tax code cleared critical hurdle thursday senate approved budget measure allow republicans pursue tax cut package democratic party support republicans control senate house representatives produce tax reform bill self imposed deadline overhaul u s tax code end year approaches party s lawmakers differ widely cuts pay intense pressure succeed tax reform failing far good main legislative ambition scrapping obamacare signature healthcare law president barack obama major world markets stock prices advanced friday bond yields rose u s dollar strengthened increased hopes trump progress fiscal plans democrats likely reject trump administration s tax plan promises deliver trillion tax cuts businesses people bloat federal deficit trillion decade senator rand paul fiscal hawk lone republican vote budget measure thursday objected spending levels said exceed agreed caps billion called spending reforms called entitlements medicare medicaid health insurance programs friday paul said post twitter biggest boldest cuts possible soon address specifics tax plan trump friday expressed optimism tax reform saying paul eventually proposed tax measure comes vote budget passed late night got zero democrat votes rand paul vote tax cuts voting trump wrote twitter allows passage large scale tax cuts reform biggest history country trump told fox business network television interview set air sunday thinks republicans votes pass big tax cut package said thinking tying tax legislation infrastructure spending bill clear combined package gain votes don t want chances cause feel votes right way said according transcript provided cable news outlet budget resolution passed senate thursday reconciled markedly different version passed house republicans negotiations unified measure weeks house budget resolution calls revenue neutral tax bill combine tax cuts billion spending cuts mandatory programs including food assistance poor far spending cuts senate version instructs energy natural resources committee save billion decade difference set possible conflict republicans senate house negotiate final budget blueprint overhauling complex u s tax code defied washington current effort republican senators question planned repeal percent inheritance tax levied estates worth million million married couples tax paid wealthiest american taxpayers republican lawmakers high tax states new york seeking compromise repealing deduction federal taxes state local tax payments party s lawmakers agree roughly lowering corporate income tax rate percent settled final number trump seeks cut corporate rate percent says create jobs boost wages blue collar workers asked case plan tax cut wealthy house speaker paul ryan told cbs s introducing fourth bracket high income earners big rate cut resources middle class closing loopholes carve outs disproportionately benefit high income people\n"
          ]
        }
      ]
    },
    {
      "cell_type": "code",
      "source": [
        "TRUNC='post'\n",
        "PADDING = 'post'\n",
        "OOV_TOKEN = \"<OOV>\"\n",
        "EMBEDDING = 120\n",
        "EPOCHS = 4\n",
        "TRAINING_SPLIT = 0.8\n",
        "maxlen = max([len(sentence.split()) for sentence in sentences])"
      ],
      "metadata": {
        "execution": {
          "iopub.status.busy": "2024-05-05T13:19:28.106512Z",
          "iopub.execute_input": "2024-05-05T13:19:28.106806Z",
          "iopub.status.idle": "2024-05-05T13:19:28.187188Z",
          "shell.execute_reply.started": "2024-05-05T13:19:28.10678Z",
          "shell.execute_reply": "2024-05-05T13:19:28.186061Z"
        },
        "trusted": true,
        "id": "z0R8yYk6Ygpt"
      },
      "execution_count": 33,
      "outputs": []
    },
    {
      "cell_type": "code",
      "source": [
        "def train_val_split(sentences, labels, training_split):\n",
        "    \"\"\"\n",
        "    Splits the dataset into training and validation sets\n",
        "\n",
        "    Args:\n",
        "        sentences (list of string): lower-cased sentences without stopwords\n",
        "        labels (list of string): list of labels\n",
        "        training split (float): proportion of the dataset to convert to include in the train set\n",
        "\n",
        "    Returns:\n",
        "        train_sentences, validation_sentences, train_labels, validation_labels - lists containing the data splits\n",
        "    \"\"\"\n",
        "\n",
        "    # Compute the number of sentences that will be used for training (should be an integer)\n",
        "    train_size = int(len(sentences) * training_split)\n",
        "\n",
        "    # Split the sentences and labels into train/validation splits\n",
        "    train_sentences = sentences[:train_size]\n",
        "    train_labels = labels[:train_size]\n",
        "\n",
        "    validation_sentences = sentences[train_size:]\n",
        "    validation_labels = labels[train_size:]\n",
        "\n",
        "    return train_sentences, validation_sentences, train_labels, validation_labels"
      ],
      "metadata": {
        "execution": {
          "iopub.status.busy": "2024-05-05T13:19:28.188569Z",
          "iopub.execute_input": "2024-05-05T13:19:28.189349Z",
          "iopub.status.idle": "2024-05-05T13:19:28.196701Z",
          "shell.execute_reply.started": "2024-05-05T13:19:28.189268Z",
          "shell.execute_reply": "2024-05-05T13:19:28.195569Z"
        },
        "trusted": true,
        "id": "A_pBcAxDYgpu"
      },
      "execution_count": 34,
      "outputs": []
    },
    {
      "cell_type": "code",
      "source": [
        "train_news, val_news, train_labels, val_labels = train_val_split(sentences, labels, TRAINING_SPLIT)\n",
        "\n",
        "print(f\"There are {len(train_news)} sentences for training.\\n\")\n",
        "print(f\"There are {len(train_labels)} labels for training.\\n\")\n",
        "print(f\"There are {len(val_news)} sentences for validation.\\n\")\n",
        "print(f\"There are {len(val_labels)} labels for validation.\")"
      ],
      "metadata": {
        "execution": {
          "iopub.status.busy": "2024-05-05T13:19:28.198448Z",
          "iopub.execute_input": "2024-05-05T13:19:28.198764Z",
          "iopub.status.idle": "2024-05-05T13:19:28.2097Z",
          "shell.execute_reply.started": "2024-05-05T13:19:28.198736Z",
          "shell.execute_reply": "2024-05-05T13:19:28.208533Z"
        },
        "trusted": true,
        "colab": {
          "base_uri": "https://localhost:8080/"
        },
        "id": "5j_CoOYEYgpv",
        "outputId": "cfeabd22-cf11-4276-c9a6-eda92cd6fd1f"
      },
      "execution_count": 35,
      "outputs": [
        {
          "output_type": "stream",
          "name": "stdout",
          "text": [
            "There are 3200 sentences for training.\n",
            "\n",
            "There are 3200 labels for training.\n",
            "\n",
            "There are 800 sentences for validation.\n",
            "\n",
            "There are 800 labels for validation.\n"
          ]
        }
      ]
    },
    {
      "cell_type": "code",
      "source": [
        "def fit_tokenizer(train_sentences, oov_token):\n",
        "    \"\"\"\n",
        "    Instantiates the Tokenizer class on the training sentences\n",
        "\n",
        "    Args:\n",
        "        train_sentences (list of string): lower-cased sentences without stopwords to be used for training\n",
        "        oov_token (string) - symbol for the out-of-vocabulary token\n",
        "\n",
        "    Returns:\n",
        "        tokenizer (object): an instance of the Tokenizer class containing the word-index dictionary\n",
        "    \"\"\"\n",
        "\n",
        "    # Instantiate the Tokenizer class, passing in the correct values for oov_token\n",
        "    tokenizer = Tokenizer(oov_token=oov_token)\n",
        "\n",
        "    # Fit the tokenizer to the training sentences\n",
        "    tokenizer.fit_on_texts(train_sentences)\n",
        "\n",
        "    return tokenizer"
      ],
      "metadata": {
        "execution": {
          "iopub.status.busy": "2024-05-05T13:19:28.211171Z",
          "iopub.execute_input": "2024-05-05T13:19:28.211549Z",
          "iopub.status.idle": "2024-05-05T13:19:28.221939Z",
          "shell.execute_reply.started": "2024-05-05T13:19:28.211518Z",
          "shell.execute_reply": "2024-05-05T13:19:28.220798Z"
        },
        "trusted": true,
        "id": "5fQmcoh-Ygpw"
      },
      "execution_count": 36,
      "outputs": []
    },
    {
      "cell_type": "code",
      "source": [
        "tokenizer = fit_tokenizer(sentences, OOV_TOKEN)\n",
        "word_index = tokenizer.word_index\n",
        "VOCAB_SIZE = len(word_index)"
      ],
      "metadata": {
        "execution": {
          "iopub.status.busy": "2024-05-05T13:19:28.225515Z",
          "iopub.execute_input": "2024-05-05T13:19:28.225942Z",
          "iopub.status.idle": "2024-05-05T13:19:29.161346Z",
          "shell.execute_reply.started": "2024-05-05T13:19:28.225901Z",
          "shell.execute_reply": "2024-05-05T13:19:29.160114Z"
        },
        "trusted": true,
        "id": "m0wA8MX-Ygpx"
      },
      "execution_count": 37,
      "outputs": []
    },
    {
      "cell_type": "code",
      "source": [
        "def seq_pad_and_trunc(sentences, tokenizer, padding, truncating, maxlen):\n",
        "    \"\"\"\n",
        "    Generates an array of token sequences and pads them to the same length\n",
        "\n",
        "    Args:\n",
        "        sentences (list of string): list of sentences to tokenize and pad\n",
        "        tokenizer (object): Tokenizer instance containing the word-index dictionary\n",
        "        padding (string): type of padding to use\n",
        "        truncating (string): type of truncating to use\n",
        "        maxlen (int): maximum length of the token sequence\n",
        "\n",
        "    Returns:\n",
        "        pad_trunc_sequences (array of int): tokenized sentences padded to the same length\n",
        "    \"\"\"\n",
        "    # Convert sentences to sequences\n",
        "    sequences = tokenizer.texts_to_sequences(sentences)\n",
        "\n",
        "    # Pad the sequences using the correct padding, truncating and maxlen\n",
        "    pad_trunc_sequences = pad_sequences(sequences, padding=padding, truncating=truncating, maxlen=maxlen)\n",
        "\n",
        "    return pad_trunc_sequences"
      ],
      "metadata": {
        "execution": {
          "iopub.status.busy": "2024-05-05T13:19:29.162767Z",
          "iopub.execute_input": "2024-05-05T13:19:29.163118Z",
          "iopub.status.idle": "2024-05-05T13:19:29.170254Z",
          "shell.execute_reply.started": "2024-05-05T13:19:29.163087Z",
          "shell.execute_reply": "2024-05-05T13:19:29.169185Z"
        },
        "trusted": true,
        "id": "u2dMkqtWYgpz"
      },
      "execution_count": 38,
      "outputs": []
    },
    {
      "cell_type": "code",
      "source": [
        "train_pad_trunc_seq = seq_pad_and_trunc(train_news, tokenizer, PADDING, TRUNC, maxlen)\n",
        "val_pad_trunc_seq = seq_pad_and_trunc(val_news, tokenizer, PADDING, TRUNC, maxlen)\n",
        "\n",
        "print(f\"Padded and truncated training sequences have shape: {train_pad_trunc_seq.shape}\\n\")\n",
        "print(f\"Padded and truncated validation sequences have shape: {val_pad_trunc_seq.shape}\")"
      ],
      "metadata": {
        "execution": {
          "iopub.status.busy": "2024-05-05T13:19:29.171671Z",
          "iopub.execute_input": "2024-05-05T13:19:29.172003Z",
          "iopub.status.idle": "2024-05-05T13:19:29.908899Z",
          "shell.execute_reply.started": "2024-05-05T13:19:29.171974Z",
          "shell.execute_reply": "2024-05-05T13:19:29.907998Z"
        },
        "trusted": true,
        "colab": {
          "base_uri": "https://localhost:8080/"
        },
        "id": "K97Dou80Ygp2",
        "outputId": "088db78b-7e1c-4627-80c7-0fc8b12a44ba"
      },
      "execution_count": 39,
      "outputs": [
        {
          "output_type": "stream",
          "name": "stdout",
          "text": [
            "Padded and truncated training sequences have shape: (3200, 791)\n",
            "\n",
            "Padded and truncated validation sequences have shape: (800, 791)\n"
          ]
        }
      ]
    },
    {
      "cell_type": "code",
      "source": [
        "train_labels = np.array(train_labels)\n",
        "val_labels = np.array(val_labels)"
      ],
      "metadata": {
        "execution": {
          "iopub.status.busy": "2024-05-05T13:19:29.909955Z",
          "iopub.execute_input": "2024-05-05T13:19:29.911052Z",
          "iopub.status.idle": "2024-05-05T13:19:29.917421Z",
          "shell.execute_reply.started": "2024-05-05T13:19:29.911006Z",
          "shell.execute_reply": "2024-05-05T13:19:29.916117Z"
        },
        "trusted": true,
        "id": "lyixbfODYgp3"
      },
      "execution_count": 40,
      "outputs": []
    },
    {
      "cell_type": "code",
      "source": [
        "class myCallback(tf.keras.callbacks.Callback):\n",
        "        def on_epoch_end(self, epoch, logs={}):\n",
        "            if logs.get('val_accuracy') is not None and logs.get('val_accuracy') >= 0.99:\n",
        "                print(\"\\nReached 99% val_accuracy so cancelling training!\")\n",
        "                # Stop training when the above condition is met\n",
        "                self.model.stop_training = True"
      ],
      "metadata": {
        "execution": {
          "iopub.status.busy": "2024-05-05T13:19:29.919186Z",
          "iopub.execute_input": "2024-05-05T13:19:29.920051Z",
          "iopub.status.idle": "2024-05-05T13:19:29.926522Z",
          "shell.execute_reply.started": "2024-05-05T13:19:29.920017Z",
          "shell.execute_reply": "2024-05-05T13:19:29.925626Z"
        },
        "trusted": true,
        "id": "9u0kkAqMYgp3"
      },
      "execution_count": 42,
      "outputs": []
    },
    {
      "cell_type": "code",
      "source": [
        "def create_model(vocab_size, embedding_dim, maxlen):\n",
        "    \"\"\"\n",
        "    Creates a binary sentiment classifier model\n",
        "\n",
        "    Args:\n",
        "        vocab_size (int): size of the vocabulary for the Embedding layer input\n",
        "        embedding_dim (int): dimensionality of the Embedding layer output\n",
        "        maxlen (int): length of the input sequences\n",
        "    Returns:\n",
        "        model (tf.keras Model): the sentiment classifier model\n",
        "    \"\"\"\n",
        "    model = tf.keras.Sequential([\n",
        "        tf.keras.layers.Embedding(vocab_size+1, embedding_dim, input_length=maxlen),\n",
        "        tf.keras.layers.GlobalAveragePooling1D(),\n",
        "        tf.keras.layers.Dense(64, activation='relu'),\n",
        "        tf.keras.layers.Dropout(0.4),\n",
        "        tf.keras.layers.Dense(64, activation='relu'),\n",
        "        tf.keras.layers.Dense(1, activation='sigmoid')\n",
        "    ])\n",
        "\n",
        "    model.compile(loss='binary_crossentropy',\n",
        "                  optimizer='adam',\n",
        "                  metrics=['accuracy'])\n",
        "\n",
        "    return model"
      ],
      "metadata": {
        "execution": {
          "iopub.status.busy": "2024-05-05T13:19:29.92791Z",
          "iopub.execute_input": "2024-05-05T13:19:29.928285Z",
          "iopub.status.idle": "2024-05-05T13:19:29.937073Z",
          "shell.execute_reply.started": "2024-05-05T13:19:29.928256Z",
          "shell.execute_reply": "2024-05-05T13:19:29.936135Z"
        },
        "trusted": true,
        "id": "8_si-Jf1Ygp6"
      },
      "execution_count": 43,
      "outputs": []
    },
    {
      "cell_type": "code",
      "source": [
        "model = create_model(VOCAB_SIZE, EMBEDDING, maxlen)\n",
        "callbacks = myCallback()\n",
        "\n",
        "# Train the model and save the training history\n",
        "history = model.fit(\n",
        "    train_pad_trunc_seq, train_labels, epochs=EPOCHS,\n",
        "    validation_data=(val_pad_trunc_seq, val_labels),\n",
        "    callbacks=[callbacks]\n",
        "    )"
      ],
      "metadata": {
        "execution": {
          "iopub.status.busy": "2024-05-05T13:19:29.938656Z",
          "iopub.execute_input": "2024-05-05T13:19:29.939049Z",
          "iopub.status.idle": "2024-05-05T13:19:44.425138Z",
          "shell.execute_reply.started": "2024-05-05T13:19:29.938966Z",
          "shell.execute_reply": "2024-05-05T13:19:44.423874Z"
        },
        "trusted": true,
        "colab": {
          "base_uri": "https://localhost:8080/"
        },
        "id": "0aFyqUBGYgp7",
        "outputId": "3552621b-62d6-47d2-9063-bf947adc5f58"
      },
      "execution_count": 44,
      "outputs": [
        {
          "output_type": "stream",
          "name": "stderr",
          "text": [
            "/usr/local/lib/python3.11/dist-packages/keras/src/layers/core/embedding.py:90: UserWarning: Argument `input_length` is deprecated. Just remove it.\n",
            "  warnings.warn(\n"
          ]
        },
        {
          "output_type": "stream",
          "name": "stdout",
          "text": [
            "Epoch 1/4\n",
            "\u001b[1m100/100\u001b[0m \u001b[32m━━━━━━━━━━━━━━━━━━━━\u001b[0m\u001b[37m\u001b[0m \u001b[1m5s\u001b[0m 8ms/step - accuracy: 0.5024 - loss: 0.6927 - val_accuracy: 0.7950 - val_loss: 0.6184\n",
            "Epoch 2/4\n",
            "\u001b[1m100/100\u001b[0m \u001b[32m━━━━━━━━━━━━━━━━━━━━\u001b[0m\u001b[37m\u001b[0m \u001b[1m0s\u001b[0m 4ms/step - accuracy: 0.7708 - loss: 0.5370 - val_accuracy: 0.8838 - val_loss: 0.2421\n",
            "Epoch 3/4\n",
            "\u001b[1m100/100\u001b[0m \u001b[32m━━━━━━━━━━━━━━━━━━━━\u001b[0m\u001b[37m\u001b[0m \u001b[1m0s\u001b[0m 4ms/step - accuracy: 0.9222 - loss: 0.2017 - val_accuracy: 0.9887 - val_loss: 0.0483\n",
            "Epoch 4/4\n",
            "\u001b[1m 84/100\u001b[0m \u001b[32m━━━━━━━━━━━━━━━━\u001b[0m\u001b[37m━━━━\u001b[0m \u001b[1m0s\u001b[0m 3ms/step - accuracy: 0.9483 - loss: 0.1222\n",
            "Reached 99% val_accuracy so cancelling training!\n",
            "\u001b[1m100/100\u001b[0m \u001b[32m━━━━━━━━━━━━━━━━━━━━\u001b[0m\u001b[37m\u001b[0m \u001b[1m0s\u001b[0m 4ms/step - accuracy: 0.9509 - loss: 0.1178 - val_accuracy: 0.9900 - val_loss: 0.0303\n"
          ]
        }
      ]
    },
    {
      "cell_type": "code",
      "source": [
        "acc = history.history['accuracy']\n",
        "val_acc = history.history['val_accuracy']\n",
        "loss = history.history['loss']\n",
        "val_loss = history.history['val_loss']\n",
        "\n",
        "plt.plot(acc)\n",
        "plt.plot(val_acc)\n",
        "plt.title('Training and validation accuracy')\n",
        "plt.xlabel('Epoch')\n",
        "plt.ylabel('Accuracy')\n",
        "plt.legend(['Training', 'Validation'], loc='lower right')\n",
        "plt.show()\n",
        "\n",
        "plt.plot(loss)\n",
        "plt.plot(val_loss)\n",
        "plt.title('Training and validation loss')\n",
        "plt.xlabel('Epoch')\n",
        "plt.ylabel('Loss')\n",
        "plt.legend(['Training', 'Validation'], loc='upper right')\n",
        "plt.show()"
      ],
      "metadata": {
        "execution": {
          "iopub.status.busy": "2024-05-05T13:19:44.426857Z",
          "iopub.execute_input": "2024-05-05T13:19:44.42766Z",
          "iopub.status.idle": "2024-05-05T13:19:45.079986Z",
          "shell.execute_reply.started": "2024-05-05T13:19:44.427622Z",
          "shell.execute_reply": "2024-05-05T13:19:45.078746Z"
        },
        "trusted": true,
        "colab": {
          "base_uri": "https://localhost:8080/",
          "height": 927
        },
        "id": "4zzv2rxRYgp8",
        "outputId": "78a7570b-f213-41fe-afc9-2163475477c3"
      },
      "execution_count": 45,
      "outputs": [
        {
          "output_type": "display_data",
          "data": {
            "text/plain": [
              "<Figure size 640x480 with 1 Axes>"
            ],
            "image/png": "[encoded data removed]"
          },
          "metadata": {}
        },
        {
          "output_type": "display_data",
          "data": {
            "text/plain": [
              "<Figure size 640x480 with 1 Axes>"
            ],
            "image/png": "[encoded data removed]"
          },
          "metadata": {}
        }
      ]
    },
    {
      "cell_type": "code",
      "source": [
        "import numpy as np\n",
        "import re\n",
        "import tensorflow as tf\n",
        "from tensorflow.keras.models import Sequential\n",
        "from tensorflow.keras.layers import Embedding, LSTM, Dense, Dropout, Bidirectional\n",
        "from tensorflow.keras.preprocessing.text import Tokenizer\n",
        "from tensorflow.keras.preprocessing.sequence import pad_sequences\n",
        "from sklearn.model_selection import train_test_split\n",
        "from sklearn.metrics import accuracy_score, classification_report, confusion_matrix\n",
        "\n",
        "# Sample preprocessing function\n",
        "def preprocessing(text):\n",
        "    text = text.lower()\n",
        "    text = re.sub(r'[^\\w\\s]', '', text)\n",
        "    text = text.strip()\n",
        "    return text\n",
        "\n",
        "# Assuming data is loaded into `news['text']` and `labels`\n",
        "# Using news['text'] instead of undefined 'texts' variable\n",
        "texts_cleaned = [preprocessing(text) for text in news['text']]\n",
        "# Tokenization and padding\n",
        "tokenizer = Tokenizer(oov_token='<OOV>')\n",
        "tokenizer.fit_on_texts(texts_cleaned)\n",
        "sequences = tokenizer.texts_to_sequences(texts_cleaned)\n",
        "maxlen = max(len(seq) for seq in sequences)\n",
        "padded_sequences = pad_sequences(sequences, maxlen=maxlen, padding='post')\n",
        "\n",
        "# Train-test split\n",
        "X_train, X_test, y_train, y_test = train_test_split(padded_sequences, labels, test_size=0.2, random_state=42)\n",
        "\n",
        "# Model building with dropout and regularization\n",
        "model = Sequential([\n",
        "    Embedding(input_dim=len(tokenizer.word_index)+1, output_dim=64, input_length=maxlen),\n",
        "    Bidirectional(LSTM(64, return_sequences=True, kernel_regularizer=tf.keras.regularizers.l2(0.01))),\n",
        "    Dropout(0.5),\n",
        "    Bidirectional(LSTM(32, kernel_regularizer=tf.keras.regularizers.l2(0.01))),\n",
        "    Dropout(0.5),\n",
        "    Dense(32, activation='relu'),\n",
        "    Dense(1, activation='sigmoid')\n",
        "])\n",
        "\n",
        "# Compile the model\n",
        "model.compile(loss='binary_crossentropy', optimizer='adam', metrics=['accuracy'])\n",
        "\n",
        "# Early stopping\n",
        "early_stopping = tf.keras.callbacks.EarlyStopping(monitor='val_loss', patience=3)\n",
        "\n",
        "# Train the model\n",
        "history = model.fit(\n",
        "    np.array(X_train), np.array(y_train), validation_split=0.2, epochs=20, batch_size=64, callbacks=[early_stopping]\n",
        ")\n",
        "\n",
        "# Evaluate the model\n",
        "y_pred = (model.predict(X_test) > 0.5).astype(\"int32\")\n",
        "print(\"Accuracy:\", accuracy_score(y_test, y_pred))\n",
        "print(\"Confusion Matrix:\\n\", confusion_matrix(y_test, y_pred))\n",
        "print(\"Classification Report:\\n\", classification_report(y_test, y_pred))"
      ],
      "metadata": {
        "colab": {
          "base_uri": "https://localhost:8080/"
        },
        "id": "zEfjItHLUgdv",
        "outputId": "b303f575-5fd2-407d-f25b-8559bf475c49"
      },
      "execution_count": 48,
      "outputs": [
        {
          "output_type": "stream",
          "name": "stdout",
          "text": [
            "Epoch 1/20\n"
          ]
        },
        {
          "output_type": "stream",
          "name": "stderr",
          "text": [
            "/usr/local/lib/python3.11/dist-packages/keras/src/layers/core/embedding.py:90: UserWarning: Argument `input_length` is deprecated. Just remove it.\n",
            "  warnings.warn(\n"
          ]
        },
        {
          "output_type": "stream",
          "name": "stdout",
          "text": [
            "\u001b[1m40/40\u001b[0m \u001b[32m━━━━━━━━━━━━━━━━━━━━\u001b[0m\u001b[37m\u001b[0m \u001b[1m16s\u001b[0m 182ms/step - accuracy: 0.7168 - loss: 4.4326 - val_accuracy: 0.9953 - val_loss: 1.9634\n",
            "Epoch 2/20\n",
            "\u001b[1m40/40\u001b[0m \u001b[32m━━━━━━━━━━━━━━━━━━━━\u001b[0m\u001b[37m\u001b[0m \u001b[1m7s\u001b[0m 176ms/step - accuracy: 0.9933 - loss: 1.6242 - val_accuracy: 0.9937 - val_loss: 0.7846\n",
            "Epoch 3/20\n",
            "\u001b[1m40/40\u001b[0m \u001b[32m━━━━━━━━━━━━━━━━━━━━\u001b[0m\u001b[37m\u001b[0m \u001b[1m11s\u001b[0m 184ms/step - accuracy: 0.9976 - loss: 0.6272 - val_accuracy: 1.0000 - val_loss: 0.2856\n",
            "Epoch 4/20\n",
            "\u001b[1m40/40\u001b[0m \u001b[32m━━━━━━━━━━━━━━━━━━━━\u001b[0m\u001b[37m\u001b[0m \u001b[1m10s\u001b[0m 180ms/step - accuracy: 0.9987 - loss: 0.2354 - val_accuracy: 0.9828 - val_loss: 0.2560\n",
            "Epoch 5/20\n",
            "\u001b[1m40/40\u001b[0m \u001b[32m━━━━━━━━━━━━━━━━━━━━\u001b[0m\u001b[37m\u001b[0m \u001b[1m7s\u001b[0m 172ms/step - accuracy: 0.9669 - loss: 0.3279 - val_accuracy: 0.9953 - val_loss: 0.1018\n",
            "Epoch 6/20\n",
            "\u001b[1m40/40\u001b[0m \u001b[32m━━━━━━━━━━━━━━━━━━━━\u001b[0m\u001b[37m\u001b[0m \u001b[1m7s\u001b[0m 184ms/step - accuracy: 0.9990 - loss: 0.0693 - val_accuracy: 1.0000 - val_loss: 0.0402\n",
            "Epoch 7/20\n",
            "\u001b[1m40/40\u001b[0m \u001b[32m━━━━━━━━━━━━━━━━━━━━\u001b[0m\u001b[37m\u001b[0m \u001b[1m9s\u001b[0m 162ms/step - accuracy: 1.0000 - loss: 0.0374 - val_accuracy: 1.0000 - val_loss: 0.0244\n",
            "Epoch 8/20\n",
            "\u001b[1m40/40\u001b[0m \u001b[32m━━━━━━━━━━━━━━━━━━━━\u001b[0m\u001b[37m\u001b[0m \u001b[1m10s\u001b[0m 162ms/step - accuracy: 0.9999 - loss: 0.0234 - val_accuracy: 1.0000 - val_loss: 0.0169\n",
            "Epoch 9/20\n",
            "\u001b[1m40/40\u001b[0m \u001b[32m━━━━━━━━━━━━━━━━━━━━\u001b[0m\u001b[37m\u001b[0m \u001b[1m10s\u001b[0m 163ms/step - accuracy: 1.0000 - loss: 0.0169 - val_accuracy: 0.9969 - val_loss: 0.0391\n",
            "Epoch 10/20\n",
            "\u001b[1m40/40\u001b[0m \u001b[32m━━━━━━━━━━━━━━━━━━━━\u001b[0m\u001b[37m\u001b[0m \u001b[1m10s\u001b[0m 166ms/step - accuracy: 1.0000 - loss: 0.0123 - val_accuracy: 0.9953 - val_loss: 0.0503\n",
            "Epoch 11/20\n",
            "\u001b[1m40/40\u001b[0m \u001b[32m━━━━━━━━━━━━━━━━━━━━\u001b[0m\u001b[37m\u001b[0m \u001b[1m11s\u001b[0m 185ms/step - accuracy: 1.0000 - loss: 0.0089 - val_accuracy: 0.9953 - val_loss: 0.0493\n",
            "\u001b[1m25/25\u001b[0m \u001b[32m━━━━━━━━━━━━━━━━━━━━\u001b[0m\u001b[37m\u001b[0m \u001b[1m2s\u001b[0m 61ms/step\n",
            "Accuracy: 0.99875\n",
            "Confusion Matrix:\n",
            " [[401   1]\n",
            " [  0 398]]\n",
            "Classification Report:\n",
            "               precision    recall  f1-score   support\n",
            "\n",
            "           0       1.00      1.00      1.00       402\n",
            "           1       1.00      1.00      1.00       398\n",
            "\n",
            "    accuracy                           1.00       800\n",
            "   macro avg       1.00      1.00      1.00       800\n",
            "weighted avg       1.00      1.00      1.00       800\n",
            "\n"
          ]
        }
      ]
    },
    {
      "cell_type": "code",
      "source": [
        "def preprocess_and_predict(user_input):\n",
        "    # Preprocess the input\n",
        "    user_input_clean = preprocessing(user_input)\n",
        "\n",
        "    # Tokenize and pad\n",
        "    sequence = tokenizer.texts_to_sequences([user_input_clean])\n",
        "    padded = pad_sequences(sequence, maxlen=maxlen, padding='post', truncating='post')\n",
        "\n",
        "    # Predict\n",
        "    prediction = model.predict(padded)\n",
        "\n",
        "    # Interpret result\n",
        "    label = \"REAL\" if prediction[0][0] > 0.5 else \"FAKE\"\n",
        "    print(f\"📰 Prediction: {label} news (Confidence: {prediction[0][0]:.2f})\")\n",
        "\n",
        "# Example: Run prediction with user input\n",
        "user_input = input(\"Enter a news article or headline: \")\n",
        "preprocess_and_predict(user_input)\n"
      ],
      "metadata": {
        "id": "uFoUAfqic0xi",
        "outputId": "101dfe2e-6016-4248-8586-7b586880dd69",
        "colab": {
          "base_uri": "https://localhost:8080/"
        }
      },
      "execution_count": 58,
      "outputs": [
        {
          "output_type": "stream",
          "name": "stdout",
          "text": [
            "Enter a news article or headline: Factbox: Trump on Twitter (Dec 28) - Vanity Fair, Hillary Clinton The following statements were posted to the verified Twitter accounts of U.S. President Donald Trump, @realDonaldTrump and @POTUS.  The opinions expressed are his own. Reuters has not edited the statements or confirmed their accuracy.  @realDonaldTrump : - Vanity Fair, which looks like it is on its last legs, is bending over backwards in apologizing for the minor hit they took at Crooked H. Anna Wintour, who was all set to be Amb to Court of St James’s & a big fundraiser for CH, is beside herself in grief & begging for forgiveness! [1024 EST] -- Source link: (bit.ly/2jBh4LU) (bit.ly/2jpEXYR) \n",
            "\u001b[1m1/1\u001b[0m \u001b[32m━━━━━━━━━━━━━━━━━━━━\u001b[0m\u001b[37m\u001b[0m \u001b[1m0s\u001b[0m 94ms/step\n",
            "📰 Prediction: REAL news (Confidence: 1.00)\n"
          ]
        }
      ]
    }
  ]
}